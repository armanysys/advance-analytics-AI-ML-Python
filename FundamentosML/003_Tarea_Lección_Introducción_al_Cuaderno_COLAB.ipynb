{
  "cells": [
    {
      "cell_type": "markdown",
      "id": "7efa34ac",
      "metadata": {
        "id": "7efa34ac"
      },
      "source": [
        "# Bucles en Python: Proyecto de Estimaciones vs. Costos de Seguros Médicos"
      ]
    },
    {
      "cell_type": "markdown",
      "id": "3b8c8fc2",
      "metadata": {
        "id": "3b8c8fc2"
      },
      "source": [
        "Estás interesado en analizar los datos de costos de seguros médicos de manera eficiente sin escribir código repetitivo.\n",
        "\n",
        "En este proyecto, utilizarás tu nuevo conocimiento sobre bucles en Python para iterar y analizar los datos de costos de seguros médicos.\n",
        "\n",
        "¡Empecemos!"
      ]
    },
    {
      "cell_type": "markdown",
      "id": "b2d3f72c",
      "metadata": {
        "id": "b2d3f72c"
      },
      "source": [
        "## Creación de un Bucle tipo `For`"
      ]
    },
    {
      "cell_type": "markdown",
      "id": "4af76082",
      "metadata": {
        "id": "4af76082"
      },
      "source": [
        "#1. Primero, echemos un vistazo a tres listas en el bloque de código a continuación:\n",
        "\n",
        "- `names` almacena los nombres de siete personas.\n",
        "- `estimated_insurance_costs` almacena los costos estimados de seguro médico para las personas.\n",
        "- `actual_insurance_costs` almacena los costos reales de seguro médico pagados por las personas.\n",
        "\n",
        "Queremos calcular el costo promedio de seguro que cada persona pagó. Empezaremos sumando todos los costos del seguro.\n",
        "\n",
        "Crea una variable llamada total_cost y asígnale el valor `0`."
      ]
    },
    {
      "cell_type": "code",
      "execution_count": null,
      "id": "942629ef",
      "metadata": {
        "id": "942629ef"
      },
      "outputs": [],
      "source": [
        "names = [\"Judith\", \"Abel\", \"Tyson\", \"Martha\", \"Beverley\", \"David\", \"Anabel\"]\n",
        "estimated_insurance_costs = [1000.0, 2000.0, 3000.0, 4000.0, 5000.0, 6000.0, 7000.0]\n",
        "actual_insurance_costs = [1100.0, 2200.0, 3300.0, 4400.0, 5500.0, 6600.0, 7700.0]\n"
      ]
    },
    {
      "cell_type": "markdown",
      "id": "acfa961f",
      "metadata": {
        "id": "acfa961f"
      },
      "source": [
        "2. Usa un bucle for para iterar sobre la lista `actual_insurance_costs` y suma cada costo de seguro a la variable `total_cost`."
      ]
    },
    {
      "cell_type": "code",
      "execution_count": null,
      "id": "7572afff",
      "metadata": {
        "id": "7572afff"
      },
      "outputs": [],
      "source": []
    },
    {
      "cell_type": "markdown",
      "id": "3bbc62d7",
      "metadata": {
        "id": "3bbc62d7"
      },
      "source": [
        "3. Después del bucle `for`, crea una variable llamada `average_cost` que almacene el valor de `total_cost` dividido por la longitud de la lista `actual_insurance_costs`."
      ]
    },
    {
      "cell_type": "code",
      "execution_count": null,
      "id": "bb393759",
      "metadata": {
        "id": "bb393759"
      },
      "outputs": [],
      "source": []
    },
    {
      "cell_type": "markdown",
      "id": "9020ae01",
      "metadata": {
        "id": "9020ae01"
      },
      "source": [
        "4. Imprime `average_cost` con el siguiente mensaje:\n",
        "\n",
        "   ```\n",
        "   Costo promedio de seguro: <average_cost> dólares.\n",
        "   ```"
      ]
    },
    {
      "cell_type": "code",
      "execution_count": null,
      "id": "cb2abd2f",
      "metadata": {
        "id": "cb2abd2f"
      },
      "outputs": [],
      "source": []
    },
    {
      "cell_type": "markdown",
      "id": "8bd4231a",
      "metadata": {
        "id": "8bd4231a"
      },
      "source": [
        "## Using `Range` in Loops"
      ]
    },
    {
      "cell_type": "markdown",
      "id": "643ebe21",
      "metadata": {
        "id": "643ebe21"
      },
      "source": [
        "5. Para cada persona en `names`, queremos determinar si su costo de seguro está por encima o por debajo del promedio.\n",
        "\n",
        "Escribe un bucle `for` con la variable `i` que vaya desde `0` hasta `len(names)`.\n",
        "\n",
        "**Nota**: Si ejecutas este bucle ahora, devolverá un error porque actualmente no hay código dentro del bucle. Arreglaremos esto en el siguiente paso."
      ]
    },
    {
      "cell_type": "code",
      "execution_count": null,
      "id": "36569227",
      "metadata": {
        "id": "36569227"
      },
      "outputs": [],
      "source": []
    },
    {
      "cell_type": "markdown",
      "id": "9494673d",
      "metadata": {
        "id": "9494673d"
      },
      "source": [
        "6. Dentro del bucle `for`, realiza lo siguiente:\n",
        "\n",
        "- Crea una variable `name`, que almacene `names[i]`.\n",
        "- Crea una variable `insurance_cost`, que almacene `actual_insurance_costs[i]`.\n",
        "- Imprime el costo del seguro para cada persona, con el siguiente mensaje:\n",
        "\n",
        "   ```\n",
        "   El costo de seguro para <name> es de <insurance_cost> dólares.\n",
        "   ```"
      ]
    },
    {
      "cell_type": "code",
      "execution_count": null,
      "id": "7f9065e5",
      "metadata": {
        "id": "7f9065e5"
      },
      "outputs": [],
      "source": []
    },
    {
      "cell_type": "markdown",
      "id": "4f76f415",
      "metadata": {
        "id": "4f76f415"
      },
      "source": [
        "7. Observa el resultado anterior.\n",
        "\n",
        "Deberías ver los costos de seguro para cada una de las siete personas en `names`. El bucle for iteró a través de toda la lista e imprimió el costo de seguro para cada persona."
      ]
    },
    {
      "cell_type": "markdown",
      "id": "ca6c71d9",
      "metadata": {
        "id": "ca6c71d9"
      },
      "source": [
        "## Condiciones dentro de un Bucle"
      ]
    },
    {
      "cell_type": "markdown",
      "id": "a6570594",
      "metadata": {
        "id": "a6570594"
      },
      "source": [
        "8. Dentro del bucle `for`, usa declaraciones `if`, `elif`, `else` después de la declaración `print` para verificar si el costo del seguro está por encima, por debajo o igual al promedio. Imprime mensajes para cada caso:\n",
        "\n",
        "   - Cuando `insurance_cost` sea mayor que el promedio, imprime lo siguiente:\n",
        "   ```\n",
        "   El costo de seguro para <name> está por encima del promedio.\n",
        "   ```\n",
        "   - Cuando `insurance_cost` sea menor que el promedio, imprime lo siguiente:\n",
        "   ```\n",
        "   El costo de seguro para <name> está por debajo del promedio.\n",
        "   ```\n",
        "   - De lo contrario, imprime lo siguiente:\n",
        "   ```\n",
        "   El costo de seguro para <name> es igual al promedio.\n",
        "   ```"
      ]
    },
    {
      "cell_type": "code",
      "execution_count": null,
      "id": "93ffface",
      "metadata": {
        "id": "93ffface"
      },
      "outputs": [],
      "source": []
    },
    {
      "cell_type": "markdown",
      "id": "e62cd4bb",
      "metadata": {
        "id": "e62cd4bb"
      },
      "source": [
        "9. Observa el resultado anterior.\n",
        "\n",
        "    Deberías ver mensajes que indican el costo de seguro para cada una de las siete personas y su posición relativa al costo promedio."
      ]
    },
    {
      "cell_type": "markdown",
      "id": "82e664df",
      "metadata": {
        "id": "82e664df"
      },
      "source": [
        "## Creación de una Comprensión de Lista"
      ]
    },
    {
      "cell_type": "markdown",
      "id": "dde1e68d",
      "metadata": {
        "id": "dde1e68d"
      },
      "source": [
        "10. Si observas detenidamente `actual_insurance_costs` y `estimated_insurance_costs`, notarás que cada uno de los costos reales es un 10% mayor que los costos estimados.\n",
        "\n",
        "    Usando una comprensión de lista, crea una nueva lista llamada `updated_estimated_costs`, que tenga cada elemento en `estimated_insurance_costs` multiplicado por 11/10.."
      ]
    },
    {
      "cell_type": "code",
      "execution_count": null,
      "id": "b5602da4",
      "metadata": {
        "id": "b5602da4"
      },
      "outputs": [],
      "source": []
    },
    {
      "cell_type": "markdown",
      "id": "eeb071e3",
      "metadata": {
        "id": "eeb071e3"
      },
      "source": [
        "11. Imprime `updated_estimated_costs`.\n",
        "\n",
        "      Deberías ver que la lista ahora se parece a `actual_insurance_costs`."
      ]
    },
    {
      "cell_type": "code",
      "execution_count": null,
      "id": "6dc117e9",
      "metadata": {
        "id": "6dc117e9"
      },
      "outputs": [],
      "source": []
    },
    {
      "cell_type": "markdown",
      "id": "f57d79ac",
      "metadata": {
        "id": "f57d79ac"
      },
      "source": [
        "## Extra"
      ]
    },
    {
      "cell_type": "markdown",
      "id": "bc6c0a65",
      "metadata": {
        "id": "bc6c0a65"
      },
      "source": [
        "12. ¡Felicidades! En este proyecto, usaste bucles en Python para iterar y analizar los datos de costos de seguros médicos.\n",
        "\n",
        "  Como científico de datos, querrás poder recorrer fácilmente los datos y realizar análisis sin tener que escribir código repetitivo. Los bucles son un excelente lugar para comenzar.\n",
        "\n",
        "  Si deseas más práctica con los bucles en Python, aquí tienes algunas sugerencias para que te pongas en marcha:\n",
        "\n",
        "  Convierte el primer bucle `for` en un bucle `while`.\n",
        "  Modifica el segundo bucle `for` para que también calcule cuánto por encima o por debajo del costo estimado promedio está.\n",
        "\n",
        "¡Feliz codificación!"
      ]
    },
    {
      "cell_type": "code",
      "execution_count": null,
      "id": "7aac3b39",
      "metadata": {
        "id": "7aac3b39"
      },
      "outputs": [],
      "source": []
    },
    {
      "cell_type": "code",
      "execution_count": null,
      "id": "a2d0b5cf",
      "metadata": {
        "id": "a2d0b5cf"
      },
      "outputs": [],
      "source": []
    }
  ],
  "metadata": {
    "kernelspec": {
      "display_name": "Python 3 (ipykernel)",
      "language": "python",
      "name": "python3"
    },
    "language_info": {
      "codemirror_mode": {
        "name": "ipython",
        "version": 3
      },
      "file_extension": ".py",
      "mimetype": "text/x-python",
      "name": "python",
      "nbconvert_exporter": "python",
      "pygments_lexer": "ipython3",
      "version": "3.7.11"
    },
    "colab": {
      "provenance": []
    }
  },
  "nbformat": 4,
  "nbformat_minor": 5
}