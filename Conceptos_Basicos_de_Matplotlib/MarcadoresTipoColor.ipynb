{
  "cells": [
    {
      "cell_type": "code",
      "execution_count": 1,
      "metadata": {
        "id": "8BZaJ2-wLPcj"
      },
      "outputs": [],
      "source": [
        "# Usando `ìnline` no sea necesario escribir código adicional `plt.show()` para mostrar los gráficos\n",
        "%matplotlib inline\n",
        "\n",
        "import pandas as pd\n",
        "import numpy as np\n",
        "\n",
        "# `plt` es un alias para el módulo `matplotlib.pyplot`\n",
        "import matplotlib.pyplot as plt\n",
        "\n",
        "# importa libreria seaborn (contenedor de matplotlib)\n",
        "import seaborn as sns"
      ]
    },
    {
      "cell_type": "markdown",
      "metadata": {
        "id": "fAznkSDJLPck"
      },
      "source": [
        "### Cargando Datos para nuestros graficos"
      ]
    },
    {
      "cell_type": "code",
      "execution_count": 2,
      "metadata": {
        "id": "BnzsormALPck"
      },
      "outputs": [],
      "source": [
        "# Cargue datos de préstamos de automóviles en un marco de datos de pandas desde un archivo csv\n",
        "filename = '/content/table_i702t60.csv'\n",
        "df = pd.read_csv(filename)"
      ]
    },
    {
      "cell_type": "code",
      "execution_count": 3,
      "metadata": {
        "colab": {
          "base_uri": "https://localhost:8080/",
          "height": 206
        },
        "id": "Vnr7aDp2LPcl",
        "outputId": "8a3c907f-9adc-48db-d863-e38bb9643792"
      },
      "outputs": [
        {
          "output_type": "execute_result",
          "data": {
            "text/plain": [
              "   mes  saldo_inicial  interes_pagado  capital_pagado  saldo_final  \\\n",
              "0    1       34689.96          202.93          484.30     34205.66   \n",
              "1    2       34205.66          200.10          487.13     33718.53   \n",
              "2    3       33718.53          197.25          489.98     33228.55   \n",
              "3    4       33228.55          194.38          492.85     32735.70   \n",
              "4    5       32735.70          191.50          495.73     32239.97   \n",
              "\n",
              "   tasa_interes         modelo  \n",
              "0        0.0702  Toyota Sienna  \n",
              "1        0.0702  Toyota Sienna  \n",
              "2        0.0702  Toyota Sienna  \n",
              "3        0.0702  Toyota Sienna  \n",
              "4        0.0702  Toyota Sienna  "
            ],
            "text/html": [
              "\n",
              "  <div id=\"df-47c60958-0be4-463e-a06e-2943b1594b13\" class=\"colab-df-container\">\n",
              "    <div>\n",
              "<style scoped>\n",
              "    .dataframe tbody tr th:only-of-type {\n",
              "        vertical-align: middle;\n",
              "    }\n",
              "\n",
              "    .dataframe tbody tr th {\n",
              "        vertical-align: top;\n",
              "    }\n",
              "\n",
              "    .dataframe thead th {\n",
              "        text-align: right;\n",
              "    }\n",
              "</style>\n",
              "<table border=\"1\" class=\"dataframe\">\n",
              "  <thead>\n",
              "    <tr style=\"text-align: right;\">\n",
              "      <th></th>\n",
              "      <th>mes</th>\n",
              "      <th>saldo_inicial</th>\n",
              "      <th>interes_pagado</th>\n",
              "      <th>capital_pagado</th>\n",
              "      <th>saldo_final</th>\n",
              "      <th>tasa_interes</th>\n",
              "      <th>modelo</th>\n",
              "    </tr>\n",
              "  </thead>\n",
              "  <tbody>\n",
              "    <tr>\n",
              "      <th>0</th>\n",
              "      <td>1</td>\n",
              "      <td>34689.96</td>\n",
              "      <td>202.93</td>\n",
              "      <td>484.30</td>\n",
              "      <td>34205.66</td>\n",
              "      <td>0.0702</td>\n",
              "      <td>Toyota Sienna</td>\n",
              "    </tr>\n",
              "    <tr>\n",
              "      <th>1</th>\n",
              "      <td>2</td>\n",
              "      <td>34205.66</td>\n",
              "      <td>200.10</td>\n",
              "      <td>487.13</td>\n",
              "      <td>33718.53</td>\n",
              "      <td>0.0702</td>\n",
              "      <td>Toyota Sienna</td>\n",
              "    </tr>\n",
              "    <tr>\n",
              "      <th>2</th>\n",
              "      <td>3</td>\n",
              "      <td>33718.53</td>\n",
              "      <td>197.25</td>\n",
              "      <td>489.98</td>\n",
              "      <td>33228.55</td>\n",
              "      <td>0.0702</td>\n",
              "      <td>Toyota Sienna</td>\n",
              "    </tr>\n",
              "    <tr>\n",
              "      <th>3</th>\n",
              "      <td>4</td>\n",
              "      <td>33228.55</td>\n",
              "      <td>194.38</td>\n",
              "      <td>492.85</td>\n",
              "      <td>32735.70</td>\n",
              "      <td>0.0702</td>\n",
              "      <td>Toyota Sienna</td>\n",
              "    </tr>\n",
              "    <tr>\n",
              "      <th>4</th>\n",
              "      <td>5</td>\n",
              "      <td>32735.70</td>\n",
              "      <td>191.50</td>\n",
              "      <td>495.73</td>\n",
              "      <td>32239.97</td>\n",
              "      <td>0.0702</td>\n",
              "      <td>Toyota Sienna</td>\n",
              "    </tr>\n",
              "  </tbody>\n",
              "</table>\n",
              "</div>\n",
              "    <div class=\"colab-df-buttons\">\n",
              "\n",
              "  <div class=\"colab-df-container\">\n",
              "    <button class=\"colab-df-convert\" onclick=\"convertToInteractive('df-47c60958-0be4-463e-a06e-2943b1594b13')\"\n",
              "            title=\"Convert this dataframe to an interactive table.\"\n",
              "            style=\"display:none;\">\n",
              "\n",
              "  <svg xmlns=\"http://www.w3.org/2000/svg\" height=\"24px\" viewBox=\"0 -960 960 960\">\n",
              "    <path d=\"M120-120v-720h720v720H120Zm60-500h600v-160H180v160Zm220 220h160v-160H400v160Zm0 220h160v-160H400v160ZM180-400h160v-160H180v160Zm440 0h160v-160H620v160ZM180-180h160v-160H180v160Zm440 0h160v-160H620v160Z\"/>\n",
              "  </svg>\n",
              "    </button>\n",
              "\n",
              "  <style>\n",
              "    .colab-df-container {\n",
              "      display:flex;\n",
              "      gap: 12px;\n",
              "    }\n",
              "\n",
              "    .colab-df-convert {\n",
              "      background-color: #E8F0FE;\n",
              "      border: none;\n",
              "      border-radius: 50%;\n",
              "      cursor: pointer;\n",
              "      display: none;\n",
              "      fill: #1967D2;\n",
              "      height: 32px;\n",
              "      padding: 0 0 0 0;\n",
              "      width: 32px;\n",
              "    }\n",
              "\n",
              "    .colab-df-convert:hover {\n",
              "      background-color: #E2EBFA;\n",
              "      box-shadow: 0px 1px 2px rgba(60, 64, 67, 0.3), 0px 1px 3px 1px rgba(60, 64, 67, 0.15);\n",
              "      fill: #174EA6;\n",
              "    }\n",
              "\n",
              "    .colab-df-buttons div {\n",
              "      margin-bottom: 4px;\n",
              "    }\n",
              "\n",
              "    [theme=dark] .colab-df-convert {\n",
              "      background-color: #3B4455;\n",
              "      fill: #D2E3FC;\n",
              "    }\n",
              "\n",
              "    [theme=dark] .colab-df-convert:hover {\n",
              "      background-color: #434B5C;\n",
              "      box-shadow: 0px 1px 3px 1px rgba(0, 0, 0, 0.15);\n",
              "      filter: drop-shadow(0px 1px 2px rgba(0, 0, 0, 0.3));\n",
              "      fill: #FFFFFF;\n",
              "    }\n",
              "  </style>\n",
              "\n",
              "    <script>\n",
              "      const buttonEl =\n",
              "        document.querySelector('#df-47c60958-0be4-463e-a06e-2943b1594b13 button.colab-df-convert');\n",
              "      buttonEl.style.display =\n",
              "        google.colab.kernel.accessAllowed ? 'block' : 'none';\n",
              "\n",
              "      async function convertToInteractive(key) {\n",
              "        const element = document.querySelector('#df-47c60958-0be4-463e-a06e-2943b1594b13');\n",
              "        const dataTable =\n",
              "          await google.colab.kernel.invokeFunction('convertToInteractive',\n",
              "                                                    [key], {});\n",
              "        if (!dataTable) return;\n",
              "\n",
              "        const docLinkHtml = 'Like what you see? Visit the ' +\n",
              "          '<a target=\"_blank\" href=https://colab.research.google.com/notebooks/data_table.ipynb>data table notebook</a>'\n",
              "          + ' to learn more about interactive tables.';\n",
              "        element.innerHTML = '';\n",
              "        dataTable['output_type'] = 'display_data';\n",
              "        await google.colab.output.renderOutput(dataTable, element);\n",
              "        const docLink = document.createElement('div');\n",
              "        docLink.innerHTML = docLinkHtml;\n",
              "        element.appendChild(docLink);\n",
              "      }\n",
              "    </script>\n",
              "  </div>\n",
              "\n",
              "\n",
              "<div id=\"df-00462f76-65ed-4be3-8dab-ae3f14f9e716\">\n",
              "  <button class=\"colab-df-quickchart\" onclick=\"quickchart('df-00462f76-65ed-4be3-8dab-ae3f14f9e716')\"\n",
              "            title=\"Suggest charts\"\n",
              "            style=\"display:none;\">\n",
              "\n",
              "<svg xmlns=\"http://www.w3.org/2000/svg\" height=\"24px\"viewBox=\"0 0 24 24\"\n",
              "     width=\"24px\">\n",
              "    <g>\n",
              "        <path d=\"M19 3H5c-1.1 0-2 .9-2 2v14c0 1.1.9 2 2 2h14c1.1 0 2-.9 2-2V5c0-1.1-.9-2-2-2zM9 17H7v-7h2v7zm4 0h-2V7h2v10zm4 0h-2v-4h2v4z\"/>\n",
              "    </g>\n",
              "</svg>\n",
              "  </button>\n",
              "\n",
              "<style>\n",
              "  .colab-df-quickchart {\n",
              "      --bg-color: #E8F0FE;\n",
              "      --fill-color: #1967D2;\n",
              "      --hover-bg-color: #E2EBFA;\n",
              "      --hover-fill-color: #174EA6;\n",
              "      --disabled-fill-color: #AAA;\n",
              "      --disabled-bg-color: #DDD;\n",
              "  }\n",
              "\n",
              "  [theme=dark] .colab-df-quickchart {\n",
              "      --bg-color: #3B4455;\n",
              "      --fill-color: #D2E3FC;\n",
              "      --hover-bg-color: #434B5C;\n",
              "      --hover-fill-color: #FFFFFF;\n",
              "      --disabled-bg-color: #3B4455;\n",
              "      --disabled-fill-color: #666;\n",
              "  }\n",
              "\n",
              "  .colab-df-quickchart {\n",
              "    background-color: var(--bg-color);\n",
              "    border: none;\n",
              "    border-radius: 50%;\n",
              "    cursor: pointer;\n",
              "    display: none;\n",
              "    fill: var(--fill-color);\n",
              "    height: 32px;\n",
              "    padding: 0;\n",
              "    width: 32px;\n",
              "  }\n",
              "\n",
              "  .colab-df-quickchart:hover {\n",
              "    background-color: var(--hover-bg-color);\n",
              "    box-shadow: 0 1px 2px rgba(60, 64, 67, 0.3), 0 1px 3px 1px rgba(60, 64, 67, 0.15);\n",
              "    fill: var(--button-hover-fill-color);\n",
              "  }\n",
              "\n",
              "  .colab-df-quickchart-complete:disabled,\n",
              "  .colab-df-quickchart-complete:disabled:hover {\n",
              "    background-color: var(--disabled-bg-color);\n",
              "    fill: var(--disabled-fill-color);\n",
              "    box-shadow: none;\n",
              "  }\n",
              "\n",
              "  .colab-df-spinner {\n",
              "    border: 2px solid var(--fill-color);\n",
              "    border-color: transparent;\n",
              "    border-bottom-color: var(--fill-color);\n",
              "    animation:\n",
              "      spin 1s steps(1) infinite;\n",
              "  }\n",
              "\n",
              "  @keyframes spin {\n",
              "    0% {\n",
              "      border-color: transparent;\n",
              "      border-bottom-color: var(--fill-color);\n",
              "      border-left-color: var(--fill-color);\n",
              "    }\n",
              "    20% {\n",
              "      border-color: transparent;\n",
              "      border-left-color: var(--fill-color);\n",
              "      border-top-color: var(--fill-color);\n",
              "    }\n",
              "    30% {\n",
              "      border-color: transparent;\n",
              "      border-left-color: var(--fill-color);\n",
              "      border-top-color: var(--fill-color);\n",
              "      border-right-color: var(--fill-color);\n",
              "    }\n",
              "    40% {\n",
              "      border-color: transparent;\n",
              "      border-right-color: var(--fill-color);\n",
              "      border-top-color: var(--fill-color);\n",
              "    }\n",
              "    60% {\n",
              "      border-color: transparent;\n",
              "      border-right-color: var(--fill-color);\n",
              "    }\n",
              "    80% {\n",
              "      border-color: transparent;\n",
              "      border-right-color: var(--fill-color);\n",
              "      border-bottom-color: var(--fill-color);\n",
              "    }\n",
              "    90% {\n",
              "      border-color: transparent;\n",
              "      border-bottom-color: var(--fill-color);\n",
              "    }\n",
              "  }\n",
              "</style>\n",
              "\n",
              "  <script>\n",
              "    async function quickchart(key) {\n",
              "      const quickchartButtonEl =\n",
              "        document.querySelector('#' + key + ' button');\n",
              "      quickchartButtonEl.disabled = true;  // To prevent multiple clicks.\n",
              "      quickchartButtonEl.classList.add('colab-df-spinner');\n",
              "      try {\n",
              "        const charts = await google.colab.kernel.invokeFunction(\n",
              "            'suggestCharts', [key], {});\n",
              "      } catch (error) {\n",
              "        console.error('Error during call to suggestCharts:', error);\n",
              "      }\n",
              "      quickchartButtonEl.classList.remove('colab-df-spinner');\n",
              "      quickchartButtonEl.classList.add('colab-df-quickchart-complete');\n",
              "    }\n",
              "    (() => {\n",
              "      let quickchartButtonEl =\n",
              "        document.querySelector('#df-00462f76-65ed-4be3-8dab-ae3f14f9e716 button');\n",
              "      quickchartButtonEl.style.display =\n",
              "        google.colab.kernel.accessAllowed ? 'block' : 'none';\n",
              "    })();\n",
              "  </script>\n",
              "</div>\n",
              "\n",
              "    </div>\n",
              "  </div>\n"
            ],
            "application/vnd.google.colaboratory.intrinsic+json": {
              "type": "dataframe",
              "variable_name": "df",
              "summary": "{\n  \"name\": \"df\",\n  \"rows\": 60,\n  \"fields\": [\n    {\n      \"column\": \"mes\",\n      \"properties\": {\n        \"dtype\": \"number\",\n        \"std\": 17,\n        \"min\": 1,\n        \"max\": 60,\n        \"num_unique_values\": 60,\n        \"samples\": [\n          1,\n          6,\n          37\n        ],\n        \"semantic_type\": \"\",\n        \"description\": \"\"\n      }\n    },\n    {\n      \"column\": \"saldo_inicial\",\n      \"properties\": {\n        \"dtype\": \"number\",\n        \"std\": 10057.641350859672,\n        \"min\": 682.91,\n        \"max\": 34689.96,\n        \"num_unique_values\": 60,\n        \"samples\": [\n          34689.96,\n          32239.97,\n          15346.07\n        ],\n        \"semantic_type\": \"\",\n        \"description\": \"\"\n      }\n    },\n    {\n      \"column\": \"interes_pagado\",\n      \"properties\": {\n        \"dtype\": \"number\",\n        \"std\": 58.83763634149689,\n        \"min\": 3.99,\n        \"max\": 202.93,\n        \"num_unique_values\": 60,\n        \"samples\": [\n          202.93,\n          188.6,\n          89.77\n        ],\n        \"semantic_type\": \"\",\n        \"description\": \"\"\n      }\n    },\n    {\n      \"column\": \"capital_pagado\",\n      \"properties\": {\n        \"dtype\": \"number\",\n        \"std\": 58.837636341496896,\n        \"min\": 484.3,\n        \"max\": 683.24,\n        \"num_unique_values\": 60,\n        \"samples\": [\n          484.3,\n          498.63,\n          597.46\n        ],\n        \"semantic_type\": \"\",\n        \"description\": \"\"\n      }\n    },\n    {\n      \"column\": \"saldo_final\",\n      \"properties\": {\n        \"dtype\": \"number\",\n        \"std\": 10116.478987150478,\n        \"min\": -0.33,\n        \"max\": 34205.66,\n        \"num_unique_values\": 60,\n        \"samples\": [\n          34205.66,\n          31741.34,\n          14748.61\n        ],\n        \"semantic_type\": \"\",\n        \"description\": \"\"\n      }\n    },\n    {\n      \"column\": \"tasa_interes\",\n      \"properties\": {\n        \"dtype\": \"number\",\n        \"std\": 8.396941210513554e-17,\n        \"min\": 0.0702,\n        \"max\": 0.0702,\n        \"num_unique_values\": 1,\n        \"samples\": [\n          0.0702\n        ],\n        \"semantic_type\": \"\",\n        \"description\": \"\"\n      }\n    },\n    {\n      \"column\": \"modelo\",\n      \"properties\": {\n        \"dtype\": \"category\",\n        \"num_unique_values\": 1,\n        \"samples\": [\n          \"Toyota Sienna\"\n        ],\n        \"semantic_type\": \"\",\n        \"description\": \"\"\n      }\n    }\n  ]\n}"
            }
          },
          "metadata": {},
          "execution_count": 3
        }
      ],
      "source": [
        "# Ver las primeras 5 filas del marco de datos\n",
        "df.head()"
      ]
    },
    {
      "cell_type": "code",
      "execution_count": 4,
      "metadata": {
        "colab": {
          "base_uri": "https://localhost:8080/"
        },
        "id": "oCMSrPRZLPcl",
        "outputId": "d523946d-cc3a-435d-807e-52f5fe173ad0"
      },
      "outputs": [
        {
          "output_type": "stream",
          "name": "stdout",
          "text": [
            "<class 'pandas.core.frame.DataFrame'>\n",
            "RangeIndex: 60 entries, 0 to 59\n",
            "Data columns (total 7 columns):\n",
            " #   Column          Non-Null Count  Dtype  \n",
            "---  ------          --------------  -----  \n",
            " 0   mes             60 non-null     int64  \n",
            " 1   saldo_inicial   60 non-null     float64\n",
            " 2   interes_pagado  60 non-null     float64\n",
            " 3   capital_pagado  60 non-null     float64\n",
            " 4   saldo_final     60 non-null     float64\n",
            " 5   tasa_interes    60 non-null     float64\n",
            " 6   modelo          60 non-null     object \n",
            "dtypes: float64(5), int64(1), object(1)\n",
            "memory usage: 3.4+ KB\n"
          ]
        }
      ],
      "source": [
        "# Comprobando que no tenemos `NaN` en nuestro DataFrame\n",
        "# No es fácil trazar directamente datos que contienen `NaN`\n",
        "df.info()"
      ]
    },
    {
      "cell_type": "code",
      "execution_count": 5,
      "metadata": {
        "id": "IOXBiIGRLPcl"
      },
      "outputs": [],
      "source": [
        "# Para este cuaderno, graficaremos los intereses pagados, el capital pagado y el mes en un solo gráfico.\n",
        "# Si bien podríamos graficar directamente a través de Pandas, por ahora lo haremos a través de Matplotlib.\n",
        "mes_numero = df.loc[:, 'mes'].values\n",
        "interes_pagado = df.loc[:, 'interes_pagado'].values\n",
        "capital_pagado = df.loc[:, 'capital_pagado'].values"
      ]
    },
    {
      "cell_type": "code",
      "execution_count": 6,
      "metadata": {
        "colab": {
          "base_uri": "https://localhost:8080/"
        },
        "id": "HcXKHwyjLPcl",
        "outputId": "62dbdd00-49a3-4150-f947-77826361cdc0"
      },
      "outputs": [
        {
          "output_type": "execute_result",
          "data": {
            "text/plain": [
              "array([ 1,  2,  3,  4,  5,  6,  7,  8,  9, 10, 11, 12, 13, 14, 15, 16, 17,\n",
              "       18, 19, 20, 21, 22, 23, 24, 25, 26, 27, 28, 29, 30, 31, 32, 33, 34,\n",
              "       35, 36, 37, 38, 39, 40, 41, 42, 43, 44, 45, 46, 47, 48, 49, 50, 51,\n",
              "       52, 53, 54, 55, 56, 57, 58, 59, 60])"
            ]
          },
          "metadata": {},
          "execution_count": 6
        }
      ],
      "source": [
        "mes_numero"
      ]
    },
    {
      "cell_type": "code",
      "execution_count": 7,
      "metadata": {
        "colab": {
          "base_uri": "https://localhost:8080/"
        },
        "id": "EIemBCVmLPcl",
        "outputId": "9bd1607e-8c06-4cc8-8afc-4155083e0e4e"
      },
      "outputs": [
        {
          "output_type": "execute_result",
          "data": {
            "text/plain": [
              "numpy.ndarray"
            ]
          },
          "metadata": {},
          "execution_count": 7
        }
      ],
      "source": [
        "# Los Valores del atributo se ​​convierten de una columna de valores en una matriz numpy\n",
        "type(mes_numero)"
      ]
    },
    {
      "cell_type": "markdown",
      "metadata": {
        "id": "-d7nLanlLPcl"
      },
      "source": [
        "## Cambiar el tipo y los colores del marcador\n",
        "\n",
        "### Tipo de marcador\n",
        "A continuación, se muestran algunos tipos de marcadores comunes.\n",
        "\n",
        "string | descripción\n",
        "--- | ---\n",
        "'.' | marcador de punto\n",
        "',' | marcador de píxel\n",
        "'o' | marcador de círculo\n",
        "'v' | marcador de triángulo hacia abajo\n",
        "'^' | marcador de triángulo hacia arriba\n",
        "'<' | marcador de triángulo hacia la izquierda\n",
        "'>' | marcador de triángulo hacia la derecha\n",
        "'s' | marcador de cuadrado\n",
        "'\\*' | marcador de estrella\n",
        "'+' | marcador de más\n",
        "'x' | marcador de x\n",
        "'s' | marcador de cuadrado"
      ]
    },
    {
      "cell_type": "code",
      "execution_count": 8,
      "metadata": {
        "colab": {
          "base_uri": "https://localhost:8080/",
          "height": 559
        },
        "id": "PSYQHJZdLPcm",
        "outputId": "b42a56a9-2ed0-42b6-b1a3-14ca980377ee"
      },
      "outputs": [
        {
          "output_type": "stream",
          "name": "stderr",
          "text": [
            "<ipython-input-8-1352a5440a38>:1: MatplotlibDeprecationWarning: The seaborn styles shipped by Matplotlib are deprecated since 3.6, as they no longer correspond to the styles shipped by seaborn. However, they will remain available as 'seaborn-v0_8-<style>'. Alternatively, directly use the seaborn API instead.\n",
            "  plt.style.use('seaborn')\n"
          ]
        },
        {
          "output_type": "execute_result",
          "data": {
            "text/plain": [
              "[<matplotlib.lines.Line2D at 0x7e5c1d1c4be0>]"
            ]
          },
          "metadata": {},
          "execution_count": 8
        },
        {
          "output_type": "display_data",
          "data": {
            "text/plain": [
              "<Figure size 800x550 with 1 Axes>"
            ],
            "image/png": "[encoded data removed]"
          },
          "metadata": {}
        }
      ],
      "source": [
        "plt.style.use('seaborn')\n",
        "\n",
        "plt.plot(mes_numero, interes_pagado)\n",
        "plt.plot(mes_numero, capital_pagado, marker = '.', markersize = 10)"
      ]
    },
    {
      "cell_type": "markdown",
      "metadata": {
        "id": "ezYIwIaOLPcm"
      },
      "source": [
        "## Cambiar color\n",
        "El parámetro `c` acepta cadenas.\n",
        "\n",
        "string | color\n",
        "--- | ---\n",
        "'b' | azul\n",
        "'azul' | azul\n",
        "'g' | verde\n",
        "'verde' | verde\n",
        "'r' | rojo\n",
        "'rojo' | rojo\n",
        "'c' | cian\n",
        "'cian' | cian\n",
        "'m' | magenta\n",
        "'magenta' | magenta\n",
        "'y' | amarillo\n",
        "'amarillo' | amarillo\n",
        "'k' | negro\n",
        "'negro' | negro\n",
        "'w' | blanco\n",
        "'blanco' | blanco\n",
        "\n",
        "El parámetro también acepta cadenas hexadecimales. Por ejemplo, verde es '#008000'. Además, puedes usar tuplas rgb.\n"
      ]
    },
    {
      "cell_type": "code",
      "execution_count": null,
      "metadata": {
        "id": "OK_wc5KSLPcm"
      },
      "outputs": [],
      "source": [
        "plt.plot(mes_numero, interes_pagado,c = 'k', marker = '.', markersize = 10)\n",
        "plt.plot(mes_numero, capital_pagado,c = 'b', marker = '.', markersize = 10)"
      ]
    },
    {
      "cell_type": "code",
      "execution_count": 9,
      "metadata": {
        "colab": {
          "base_uri": "https://localhost:8080/",
          "height": 502
        },
        "id": "0PegISd2LPcm",
        "outputId": "d48a93cb-e4d9-4a54-e016-b91cc9f0dee7"
      },
      "outputs": [
        {
          "output_type": "execute_result",
          "data": {
            "text/plain": [
              "[<matplotlib.lines.Line2D at 0x7e5c1d0bdd50>]"
            ]
          },
          "metadata": {},
          "execution_count": 9
        },
        {
          "output_type": "display_data",
          "data": {
            "text/plain": [
              "<Figure size 800x550 with 1 Axes>"
            ],
            "image/png": "[encoded data removed]"
          },
          "metadata": {}
        }
      ],
      "source": [
        "# Usando codigos hexadecimales para colores\n",
        "# '#000000' es negro\n",
        "# '#0000FF' es azul\n",
        "plt.plot(mes_numero, interes_pagado,c = '#000000', marker = '.', markersize = 10)\n",
        "plt.plot(mes_numero, capital_pagado,c = '#0000FF', marker = '.', markersize = 10)"
      ]
    },
    {
      "cell_type": "code",
      "execution_count": 10,
      "metadata": {
        "scrolled": true,
        "colab": {
          "base_uri": "https://localhost:8080/",
          "height": 502
        },
        "id": "Sx1VWbqrLPcm",
        "outputId": "19e459a7-561b-45ef-b088-0c40744c9357"
      },
      "outputs": [
        {
          "output_type": "execute_result",
          "data": {
            "text/plain": [
              "[<matplotlib.lines.Line2D at 0x7e5c1d155270>]"
            ]
          },
          "metadata": {},
          "execution_count": 10
        },
        {
          "output_type": "display_data",
          "data": {
            "text/plain": [
              "<Figure size 800x550 with 1 Axes>"
            ],
            "image/png": "[encoded data removed]"
          },
          "metadata": {}
        }
      ],
      "source": [
        "# Usando tuplas RBG\n",
        "# (0, 0, 0) es negro\n",
        "# (0, 0, 1) es azul\n",
        "plt.plot(mes_numero, interes_pagado,c = (0, 0, 0), marker = '.', markersize = 10)\n",
        "plt.plot(mes_numero, capital_pagado,c = (0, 0, 1), marker = '.', markersize = 10)"
      ]
    }
  ],
  "metadata": {
    "anaconda-cloud": {},
    "kernelspec": {
      "display_name": "Python 3",
      "language": "python",
      "name": "python3"
    },
    "language_info": {
      "codemirror_mode": {
        "name": "ipython",
        "version": 3
      },
      "file_extension": ".py",
      "mimetype": "text/x-python",
      "name": "python",
      "nbconvert_exporter": "python",
      "pygments_lexer": "ipython3",
      "version": "3.7.4"
    },
    "colab": {
      "provenance": []
    }
  },
  "nbformat": 4,
  "nbformat_minor": 0
}