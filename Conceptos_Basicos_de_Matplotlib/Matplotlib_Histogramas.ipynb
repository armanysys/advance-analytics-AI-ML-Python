{
  "cells": [
    {
      "cell_type": "markdown",
      "metadata": {
        "id": "zxx-w3PczwYR"
      },
      "source": [
        "## Histogramas"
      ]
    },
    {
      "cell_type": "markdown",
      "metadata": {
        "id": "_ob0UP8qzwYS"
      },
      "source": [
        "Es una práctica común crear histogramas para explorar los datos, ya que pueden brindar una idea general de cómo se ven. Un histograma es un resumen de la variación de una variable medida. Muestra la cantidad de muestras que se encuentran en una categoría. Un histograma es un tipo de distribución de frecuencia.\n",
        "\n",
        "Los histogramas funcionan agrupando todo el rango de valores en una serie de intervalos y luego contando cuántos valores caen en cada intervalo. Si bien los intervalos suelen tener el mismo tamaño, no es necesario que lo sean."
      ]
    },
    {
      "cell_type": "code",
      "execution_count": 20,
      "metadata": {
        "id": "QfQ99QkZzwYS"
      },
      "outputs": [],
      "source": [
        "# Usando `ìnline` no sea necesario escribir código adicional `plt.show()` para mostrar los gráficos\n",
        "%matplotlib inline\n",
        "\n",
        "import pandas as pd\n",
        "import numpy as np\n",
        "\n",
        "# `plt` es un alias para el módulo `matplotlib.pyplot`\n",
        "import matplotlib.pyplot as plt\n",
        "\n",
        "# importa libreria seaborn (contenedor de matplotlib)\n",
        "import seaborn as sns"
      ]
    },
    {
      "cell_type": "markdown",
      "metadata": {
        "id": "WS9T8tPmzwYT"
      },
      "source": [
        "### Cargando Datos para nuestros graficos\n",
        "\n",
        "Usaremos información sobre publicación de trabajos en las bolsas de internet"
      ]
    },
    {
      "cell_type": "code",
      "execution_count": 21,
      "metadata": {
        "colab": {
          "base_uri": "https://localhost:8080/",
          "height": 377
        },
        "id": "cf56pMhCzwYT",
        "outputId": "fff62ed1-9750-4ff4-9bd7-a0e769e005f4"
      },
      "outputs": [
        {
          "output_type": "execute_result",
          "data": {
            "text/plain": [
              "    marca          modelo   año        sengmento precio_max precio_min  \\\n",
              "0  Toyota   Yaris BASE MT  2024  Sedan-SmallSize   $316,100   $316,100   \n",
              "1  Toyota  Yaris BASE CVT  2024  Sedan-SmallSize   $331,100   $331,100   \n",
              "2  Toyota      Yaris S MT  2024  Sedan-SmallSize   $341,000   $341,000   \n",
              "3  Toyota     Yaris S CVT  2024  Sedan-SmallSize   $356,000   $356,000   \n",
              "4  Toyota  Yaris S CVT Hi  2024  Sedan-SmallSize   $392,200   $392,200   \n",
              "\n",
              "   pasajeros  peso transmision combustible  ... camara_360  bluetooth  \\\n",
              "0          5  1035           S         Gas  ...         no        yes   \n",
              "1          5  1035           A         Gas  ...         no        yes   \n",
              "2          5  1035           S         Gas  ...         no        yes   \n",
              "3          5  1035           A         Gas  ...         no        yes   \n",
              "4          5  1035           A         Gas  ...         no        yes   \n",
              "\n",
              "   android_auto/apple+play  cruise_control  cruise_control_advanced  \\\n",
              "0                      yes              no                       no   \n",
              "1                      yes              no                       no   \n",
              "2                      yes              no                       no   \n",
              "3                      yes              no                       no   \n",
              "4                      yes             yes                      yes   \n",
              "\n",
              "   blind_spot_alert sensor_lluvia car_tow car_pull tipo_chasis  \n",
              "0                no            no      no       no       Sedan  \n",
              "1                no            no      no       no       Sedan  \n",
              "2                no            no      no       no       Sedan  \n",
              "3                no            no      no       no       Sedan  \n",
              "4               yes            no      no       no       Sedan  \n",
              "\n",
              "[5 rows x 41 columns]"
            ],
            "text/html": [
              "\n",
              "  <div id=\"df-b5e7d463-14bb-4de8-837f-0ce2dab196b8\" class=\"colab-df-container\">\n",
              "    <div>\n",
              "<style scoped>\n",
              "    .dataframe tbody tr th:only-of-type {\n",
              "        vertical-align: middle;\n",
              "    }\n",
              "\n",
              "    .dataframe tbody tr th {\n",
              "        vertical-align: top;\n",
              "    }\n",
              "\n",
              "    .dataframe thead th {\n",
              "        text-align: right;\n",
              "    }\n",
              "</style>\n",
              "<table border=\"1\" class=\"dataframe\">\n",
              "  <thead>\n",
              "    <tr style=\"text-align: right;\">\n",
              "      <th></th>\n",
              "      <th>marca</th>\n",
              "      <th>modelo</th>\n",
              "      <th>año</th>\n",
              "      <th>sengmento</th>\n",
              "      <th>precio_max</th>\n",
              "      <th>precio_min</th>\n",
              "      <th>pasajeros</th>\n",
              "      <th>peso</th>\n",
              "      <th>transmision</th>\n",
              "      <th>combustible</th>\n",
              "      <th>...</th>\n",
              "      <th>camara_360</th>\n",
              "      <th>bluetooth</th>\n",
              "      <th>android_auto/apple+play</th>\n",
              "      <th>cruise_control</th>\n",
              "      <th>cruise_control_advanced</th>\n",
              "      <th>blind_spot_alert</th>\n",
              "      <th>sensor_lluvia</th>\n",
              "      <th>car_tow</th>\n",
              "      <th>car_pull</th>\n",
              "      <th>tipo_chasis</th>\n",
              "    </tr>\n",
              "  </thead>\n",
              "  <tbody>\n",
              "    <tr>\n",
              "      <th>0</th>\n",
              "      <td>Toyota</td>\n",
              "      <td>Yaris BASE MT</td>\n",
              "      <td>2024</td>\n",
              "      <td>Sedan-SmallSize</td>\n",
              "      <td>$316,100</td>\n",
              "      <td>$316,100</td>\n",
              "      <td>5</td>\n",
              "      <td>1035</td>\n",
              "      <td>S</td>\n",
              "      <td>Gas</td>\n",
              "      <td>...</td>\n",
              "      <td>no</td>\n",
              "      <td>yes</td>\n",
              "      <td>yes</td>\n",
              "      <td>no</td>\n",
              "      <td>no</td>\n",
              "      <td>no</td>\n",
              "      <td>no</td>\n",
              "      <td>no</td>\n",
              "      <td>no</td>\n",
              "      <td>Sedan</td>\n",
              "    </tr>\n",
              "    <tr>\n",
              "      <th>1</th>\n",
              "      <td>Toyota</td>\n",
              "      <td>Yaris BASE CVT</td>\n",
              "      <td>2024</td>\n",
              "      <td>Sedan-SmallSize</td>\n",
              "      <td>$331,100</td>\n",
              "      <td>$331,100</td>\n",
              "      <td>5</td>\n",
              "      <td>1035</td>\n",
              "      <td>A</td>\n",
              "      <td>Gas</td>\n",
              "      <td>...</td>\n",
              "      <td>no</td>\n",
              "      <td>yes</td>\n",
              "      <td>yes</td>\n",
              "      <td>no</td>\n",
              "      <td>no</td>\n",
              "      <td>no</td>\n",
              "      <td>no</td>\n",
              "      <td>no</td>\n",
              "      <td>no</td>\n",
              "      <td>Sedan</td>\n",
              "    </tr>\n",
              "    <tr>\n",
              "      <th>2</th>\n",
              "      <td>Toyota</td>\n",
              "      <td>Yaris S MT</td>\n",
              "      <td>2024</td>\n",
              "      <td>Sedan-SmallSize</td>\n",
              "      <td>$341,000</td>\n",
              "      <td>$341,000</td>\n",
              "      <td>5</td>\n",
              "      <td>1035</td>\n",
              "      <td>S</td>\n",
              "      <td>Gas</td>\n",
              "      <td>...</td>\n",
              "      <td>no</td>\n",
              "      <td>yes</td>\n",
              "      <td>yes</td>\n",
              "      <td>no</td>\n",
              "      <td>no</td>\n",
              "      <td>no</td>\n",
              "      <td>no</td>\n",
              "      <td>no</td>\n",
              "      <td>no</td>\n",
              "      <td>Sedan</td>\n",
              "    </tr>\n",
              "    <tr>\n",
              "      <th>3</th>\n",
              "      <td>Toyota</td>\n",
              "      <td>Yaris S CVT</td>\n",
              "      <td>2024</td>\n",
              "      <td>Sedan-SmallSize</td>\n",
              "      <td>$356,000</td>\n",
              "      <td>$356,000</td>\n",
              "      <td>5</td>\n",
              "      <td>1035</td>\n",
              "      <td>A</td>\n",
              "      <td>Gas</td>\n",
              "      <td>...</td>\n",
              "      <td>no</td>\n",
              "      <td>yes</td>\n",
              "      <td>yes</td>\n",
              "      <td>no</td>\n",
              "      <td>no</td>\n",
              "      <td>no</td>\n",
              "      <td>no</td>\n",
              "      <td>no</td>\n",
              "      <td>no</td>\n",
              "      <td>Sedan</td>\n",
              "    </tr>\n",
              "    <tr>\n",
              "      <th>4</th>\n",
              "      <td>Toyota</td>\n",
              "      <td>Yaris S CVT Hi</td>\n",
              "      <td>2024</td>\n",
              "      <td>Sedan-SmallSize</td>\n",
              "      <td>$392,200</td>\n",
              "      <td>$392,200</td>\n",
              "      <td>5</td>\n",
              "      <td>1035</td>\n",
              "      <td>A</td>\n",
              "      <td>Gas</td>\n",
              "      <td>...</td>\n",
              "      <td>no</td>\n",
              "      <td>yes</td>\n",
              "      <td>yes</td>\n",
              "      <td>yes</td>\n",
              "      <td>yes</td>\n",
              "      <td>yes</td>\n",
              "      <td>no</td>\n",
              "      <td>no</td>\n",
              "      <td>no</td>\n",
              "      <td>Sedan</td>\n",
              "    </tr>\n",
              "  </tbody>\n",
              "</table>\n",
              "<p>5 rows × 41 columns</p>\n",
              "</div>\n",
              "    <div class=\"colab-df-buttons\">\n",
              "\n",
              "  <div class=\"colab-df-container\">\n",
              "    <button class=\"colab-df-convert\" onclick=\"convertToInteractive('df-b5e7d463-14bb-4de8-837f-0ce2dab196b8')\"\n",
              "            title=\"Convert this dataframe to an interactive table.\"\n",
              "            style=\"display:none;\">\n",
              "\n",
              "  <svg xmlns=\"http://www.w3.org/2000/svg\" height=\"24px\" viewBox=\"0 -960 960 960\">\n",
              "    <path d=\"M120-120v-720h720v720H120Zm60-500h600v-160H180v160Zm220 220h160v-160H400v160Zm0 220h160v-160H400v160ZM180-400h160v-160H180v160Zm440 0h160v-160H620v160ZM180-180h160v-160H180v160Zm440 0h160v-160H620v160Z\"/>\n",
              "  </svg>\n",
              "    </button>\n",
              "\n",
              "  <style>\n",
              "    .colab-df-container {\n",
              "      display:flex;\n",
              "      gap: 12px;\n",
              "    }\n",
              "\n",
              "    .colab-df-convert {\n",
              "      background-color: #E8F0FE;\n",
              "      border: none;\n",
              "      border-radius: 50%;\n",
              "      cursor: pointer;\n",
              "      display: none;\n",
              "      fill: #1967D2;\n",
              "      height: 32px;\n",
              "      padding: 0 0 0 0;\n",
              "      width: 32px;\n",
              "    }\n",
              "\n",
              "    .colab-df-convert:hover {\n",
              "      background-color: #E2EBFA;\n",
              "      box-shadow: 0px 1px 2px rgba(60, 64, 67, 0.3), 0px 1px 3px 1px rgba(60, 64, 67, 0.15);\n",
              "      fill: #174EA6;\n",
              "    }\n",
              "\n",
              "    .colab-df-buttons div {\n",
              "      margin-bottom: 4px;\n",
              "    }\n",
              "\n",
              "    [theme=dark] .colab-df-convert {\n",
              "      background-color: #3B4455;\n",
              "      fill: #D2E3FC;\n",
              "    }\n",
              "\n",
              "    [theme=dark] .colab-df-convert:hover {\n",
              "      background-color: #434B5C;\n",
              "      box-shadow: 0px 1px 3px 1px rgba(0, 0, 0, 0.15);\n",
              "      filter: drop-shadow(0px 1px 2px rgba(0, 0, 0, 0.3));\n",
              "      fill: #FFFFFF;\n",
              "    }\n",
              "  </style>\n",
              "\n",
              "    <script>\n",
              "      const buttonEl =\n",
              "        document.querySelector('#df-b5e7d463-14bb-4de8-837f-0ce2dab196b8 button.colab-df-convert');\n",
              "      buttonEl.style.display =\n",
              "        google.colab.kernel.accessAllowed ? 'block' : 'none';\n",
              "\n",
              "      async function convertToInteractive(key) {\n",
              "        const element = document.querySelector('#df-b5e7d463-14bb-4de8-837f-0ce2dab196b8');\n",
              "        const dataTable =\n",
              "          await google.colab.kernel.invokeFunction('convertToInteractive',\n",
              "                                                    [key], {});\n",
              "        if (!dataTable) return;\n",
              "\n",
              "        const docLinkHtml = 'Like what you see? Visit the ' +\n",
              "          '<a target=\"_blank\" href=https://colab.research.google.com/notebooks/data_table.ipynb>data table notebook</a>'\n",
              "          + ' to learn more about interactive tables.';\n",
              "        element.innerHTML = '';\n",
              "        dataTable['output_type'] = 'display_data';\n",
              "        await google.colab.output.renderOutput(dataTable, element);\n",
              "        const docLink = document.createElement('div');\n",
              "        docLink.innerHTML = docLinkHtml;\n",
              "        element.appendChild(docLink);\n",
              "      }\n",
              "    </script>\n",
              "  </div>\n",
              "\n",
              "\n",
              "<div id=\"df-157aeaf7-5b16-44d6-84af-7f620952122a\">\n",
              "  <button class=\"colab-df-quickchart\" onclick=\"quickchart('df-157aeaf7-5b16-44d6-84af-7f620952122a')\"\n",
              "            title=\"Suggest charts\"\n",
              "            style=\"display:none;\">\n",
              "\n",
              "<svg xmlns=\"http://www.w3.org/2000/svg\" height=\"24px\"viewBox=\"0 0 24 24\"\n",
              "     width=\"24px\">\n",
              "    <g>\n",
              "        <path d=\"M19 3H5c-1.1 0-2 .9-2 2v14c0 1.1.9 2 2 2h14c1.1 0 2-.9 2-2V5c0-1.1-.9-2-2-2zM9 17H7v-7h2v7zm4 0h-2V7h2v10zm4 0h-2v-4h2v4z\"/>\n",
              "    </g>\n",
              "</svg>\n",
              "  </button>\n",
              "\n",
              "<style>\n",
              "  .colab-df-quickchart {\n",
              "      --bg-color: #E8F0FE;\n",
              "      --fill-color: #1967D2;\n",
              "      --hover-bg-color: #E2EBFA;\n",
              "      --hover-fill-color: #174EA6;\n",
              "      --disabled-fill-color: #AAA;\n",
              "      --disabled-bg-color: #DDD;\n",
              "  }\n",
              "\n",
              "  [theme=dark] .colab-df-quickchart {\n",
              "      --bg-color: #3B4455;\n",
              "      --fill-color: #D2E3FC;\n",
              "      --hover-bg-color: #434B5C;\n",
              "      --hover-fill-color: #FFFFFF;\n",
              "      --disabled-bg-color: #3B4455;\n",
              "      --disabled-fill-color: #666;\n",
              "  }\n",
              "\n",
              "  .colab-df-quickchart {\n",
              "    background-color: var(--bg-color);\n",
              "    border: none;\n",
              "    border-radius: 50%;\n",
              "    cursor: pointer;\n",
              "    display: none;\n",
              "    fill: var(--fill-color);\n",
              "    height: 32px;\n",
              "    padding: 0;\n",
              "    width: 32px;\n",
              "  }\n",
              "\n",
              "  .colab-df-quickchart:hover {\n",
              "    background-color: var(--hover-bg-color);\n",
              "    box-shadow: 0 1px 2px rgba(60, 64, 67, 0.3), 0 1px 3px 1px rgba(60, 64, 67, 0.15);\n",
              "    fill: var(--button-hover-fill-color);\n",
              "  }\n",
              "\n",
              "  .colab-df-quickchart-complete:disabled,\n",
              "  .colab-df-quickchart-complete:disabled:hover {\n",
              "    background-color: var(--disabled-bg-color);\n",
              "    fill: var(--disabled-fill-color);\n",
              "    box-shadow: none;\n",
              "  }\n",
              "\n",
              "  .colab-df-spinner {\n",
              "    border: 2px solid var(--fill-color);\n",
              "    border-color: transparent;\n",
              "    border-bottom-color: var(--fill-color);\n",
              "    animation:\n",
              "      spin 1s steps(1) infinite;\n",
              "  }\n",
              "\n",
              "  @keyframes spin {\n",
              "    0% {\n",
              "      border-color: transparent;\n",
              "      border-bottom-color: var(--fill-color);\n",
              "      border-left-color: var(--fill-color);\n",
              "    }\n",
              "    20% {\n",
              "      border-color: transparent;\n",
              "      border-left-color: var(--fill-color);\n",
              "      border-top-color: var(--fill-color);\n",
              "    }\n",
              "    30% {\n",
              "      border-color: transparent;\n",
              "      border-left-color: var(--fill-color);\n",
              "      border-top-color: var(--fill-color);\n",
              "      border-right-color: var(--fill-color);\n",
              "    }\n",
              "    40% {\n",
              "      border-color: transparent;\n",
              "      border-right-color: var(--fill-color);\n",
              "      border-top-color: var(--fill-color);\n",
              "    }\n",
              "    60% {\n",
              "      border-color: transparent;\n",
              "      border-right-color: var(--fill-color);\n",
              "    }\n",
              "    80% {\n",
              "      border-color: transparent;\n",
              "      border-right-color: var(--fill-color);\n",
              "      border-bottom-color: var(--fill-color);\n",
              "    }\n",
              "    90% {\n",
              "      border-color: transparent;\n",
              "      border-bottom-color: var(--fill-color);\n",
              "    }\n",
              "  }\n",
              "</style>\n",
              "\n",
              "  <script>\n",
              "    async function quickchart(key) {\n",
              "      const quickchartButtonEl =\n",
              "        document.querySelector('#' + key + ' button');\n",
              "      quickchartButtonEl.disabled = true;  // To prevent multiple clicks.\n",
              "      quickchartButtonEl.classList.add('colab-df-spinner');\n",
              "      try {\n",
              "        const charts = await google.colab.kernel.invokeFunction(\n",
              "            'suggestCharts', [key], {});\n",
              "      } catch (error) {\n",
              "        console.error('Error during call to suggestCharts:', error);\n",
              "      }\n",
              "      quickchartButtonEl.classList.remove('colab-df-spinner');\n",
              "      quickchartButtonEl.classList.add('colab-df-quickchart-complete');\n",
              "    }\n",
              "    (() => {\n",
              "      let quickchartButtonEl =\n",
              "        document.querySelector('#df-157aeaf7-5b16-44d6-84af-7f620952122a button');\n",
              "      quickchartButtonEl.style.display =\n",
              "        google.colab.kernel.accessAllowed ? 'block' : 'none';\n",
              "    })();\n",
              "  </script>\n",
              "</div>\n",
              "\n",
              "    </div>\n",
              "  </div>\n"
            ],
            "application/vnd.google.colaboratory.intrinsic+json": {
              "type": "dataframe",
              "variable_name": "df"
            }
          },
          "metadata": {},
          "execution_count": 21
        }
      ],
      "source": [
        "#df = pd.read_csv('/content/car_m_v_dataset.csv', skiprows=1, encoding='latin-1')\n",
        "df = pd.read_csv('/content/car_m_v_dataset.csv'\n",
        "df.head()"
      ]
    },
    {
      "cell_type": "code",
      "source": [
        "df.info()"
      ],
      "metadata": {
        "colab": {
          "base_uri": "https://localhost:8080/"
        },
        "id": "5EJipvcpEyQM",
        "outputId": "56c30324-90d3-4b41-d044-48653a4cfd9f"
      },
      "execution_count": 22,
      "outputs": [
        {
          "output_type": "stream",
          "name": "stdout",
          "text": [
            "<class 'pandas.core.frame.DataFrame'>\n",
            "RangeIndex: 241 entries, 0 to 240\n",
            "Data columns (total 41 columns):\n",
            " #   Column                   Non-Null Count  Dtype  \n",
            "---  ------                   --------------  -----  \n",
            " 0   marca                    241 non-null    object \n",
            " 1   modelo                   241 non-null    object \n",
            " 2   año                      241 non-null    int64  \n",
            " 3   sengmento                241 non-null    object \n",
            " 4   precio_max               241 non-null    object \n",
            " 5   precio_min               241 non-null    object \n",
            " 6   pasajeros                241 non-null    int64  \n",
            " 7   peso                     241 non-null    int64  \n",
            " 8   transmision              241 non-null    object \n",
            " 9   combustible              241 non-null    object \n",
            " 10  tanque                   241 non-null    object \n",
            " 11  consumo                  237 non-null    float64\n",
            " 12  largo                    241 non-null    float64\n",
            " 13  ancho                    241 non-null    float64\n",
            " 14  altura                   241 non-null    float64\n",
            " 15  eje                      241 non-null    float64\n",
            " 16  4x4/awd                  241 non-null    object \n",
            " 17  big_volume_cargo         241 non-null    object \n",
            " 18  cajuela                  241 non-null    object \n",
            " 19  front_break              241 non-null    object \n",
            " 20  rear_break               241 non-null    object \n",
            " 21  braking_assists          241 non-null    object \n",
            " 22  height_to_the ground     241 non-null    object \n",
            " 23  front_airbags            241 non-null    object \n",
            " 24  side_airbags             241 non-null    object \n",
            " 25  curtain_air_bags         241 non-null    object \n",
            " 26  knee_air_bags            241 non-null    object \n",
            " 27  monitor_llantas          241 non-null    object \n",
            " 28  NCAP                     241 non-null    int64  \n",
            " 29  frenos_emergencia        241 non-null    object \n",
            " 30  camara_reversa           241 non-null    object \n",
            " 31  camara_360               241 non-null    object \n",
            " 32  bluetooth                241 non-null    object \n",
            " 33  android_auto/apple+play  241 non-null    object \n",
            " 34  cruise_control           241 non-null    object \n",
            " 35  cruise_control_advanced  241 non-null    object \n",
            " 36  blind_spot_alert         241 non-null    object \n",
            " 37  sensor_lluvia            241 non-null    object \n",
            " 38  car_tow                  241 non-null    object \n",
            " 39  car_pull                 241 non-null    object \n",
            " 40  tipo_chasis              241 non-null    object \n",
            "dtypes: float64(5), int64(4), object(32)\n",
            "memory usage: 77.3+ KB\n"
          ]
        }
      ]
    },
    {
      "cell_type": "code",
      "source": [
        "#df[\"precio_max\"] = df[\"precio_max\"].str.replace(r'\\D+', '', regex=True)\n",
        "#df[\"precio_max\"] = df[\"precio_max\"].astype(int)"
      ],
      "metadata": {
        "id": "_vSHL_OFFHcO"
      },
      "execution_count": 33,
      "outputs": []
    },
    {
      "cell_type": "markdown",
      "metadata": {
        "id": "SSsapC-tzwYT"
      },
      "source": [
        "## Histograms using Pandas\n",
        "\n",
        "The goal of this particular visualization is to make a histogram on the `price` column. In doing this, you will see creating a data visualization can be an iterative process."
      ]
    },
    {
      "cell_type": "code",
      "execution_count": 34,
      "metadata": {
        "colab": {
          "base_uri": "https://localhost:8080/",
          "height": 241
        },
        "id": "AjEZz6mXzwYT",
        "outputId": "96c0d9f6-4e54-4a68-d9a1-9db276c54e61"
      },
      "outputs": [
        {
          "output_type": "execute_result",
          "data": {
            "text/plain": [
              "0    316100\n",
              "1    331100\n",
              "2    341000\n",
              "3    356000\n",
              "4    392200\n",
              "Name: precio_max, dtype: int64"
            ],
            "text/html": [
              "<div>\n",
              "<style scoped>\n",
              "    .dataframe tbody tr th:only-of-type {\n",
              "        vertical-align: middle;\n",
              "    }\n",
              "\n",
              "    .dataframe tbody tr th {\n",
              "        vertical-align: top;\n",
              "    }\n",
              "\n",
              "    .dataframe thead th {\n",
              "        text-align: right;\n",
              "    }\n",
              "</style>\n",
              "<table border=\"1\" class=\"dataframe\">\n",
              "  <thead>\n",
              "    <tr style=\"text-align: right;\">\n",
              "      <th></th>\n",
              "      <th>precio_max</th>\n",
              "    </tr>\n",
              "  </thead>\n",
              "  <tbody>\n",
              "    <tr>\n",
              "      <th>0</th>\n",
              "      <td>316100</td>\n",
              "    </tr>\n",
              "    <tr>\n",
              "      <th>1</th>\n",
              "      <td>331100</td>\n",
              "    </tr>\n",
              "    <tr>\n",
              "      <th>2</th>\n",
              "      <td>341000</td>\n",
              "    </tr>\n",
              "    <tr>\n",
              "      <th>3</th>\n",
              "      <td>356000</td>\n",
              "    </tr>\n",
              "    <tr>\n",
              "      <th>4</th>\n",
              "      <td>392200</td>\n",
              "    </tr>\n",
              "  </tbody>\n",
              "</table>\n",
              "</div><br><label><b>dtype:</b> int64</label>"
            ]
          },
          "metadata": {},
          "execution_count": 34
        }
      ],
      "source": [
        "df['precio_max'].head()"
      ]
    },
    {
      "cell_type": "code",
      "execution_count": 35,
      "metadata": {
        "colab": {
          "base_uri": "https://localhost:8080/",
          "height": 519
        },
        "id": "EVZ6b88WzwYT",
        "outputId": "8ee9f7e2-a079-46cb-eb3a-9dd740e0c155"
      },
      "outputs": [
        {
          "output_type": "execute_result",
          "data": {
            "text/plain": [
              "<Axes: >"
            ]
          },
          "metadata": {},
          "execution_count": 35
        },
        {
          "output_type": "display_data",
          "data": {
            "text/plain": [
              "<Figure size 800x550 with 1 Axes>"
            ],
            "image/png": "[encoded data removed]"
          },
          "metadata": {}
        }
      ],
      "source": [
        "# Usar la configuración predeterminada no es una buena idea\n",
        "# Tenga en cuenta que las visualizaciones son un proceso interactivo.\n",
        "df['precio_max'].hist()"
      ]
    },
    {
      "cell_type": "code",
      "execution_count": 42,
      "metadata": {
        "colab": {
          "base_uri": "https://localhost:8080/",
          "height": 725
        },
        "id": "8nNdpOoWzwYT",
        "outputId": "be4e6e60-213a-4c2a-ef36-7e8a36864cc4"
      },
      "outputs": [
        {
          "output_type": "execute_result",
          "data": {
            "text/plain": [
              "(array([      0.,  250000.,  500000.,  750000., 1000000., 1250000.,\n",
              "        1500000., 1750000., 2000000., 2250000.]),\n",
              " [Text(0.0, 0, '0.00'),\n",
              "  Text(250000.0, 0, '0.25'),\n",
              "  Text(500000.0, 0, '0.50'),\n",
              "  Text(750000.0, 0, '0.75'),\n",
              "  Text(1000000.0, 0, '1.00'),\n",
              "  Text(1250000.0, 0, '1.25'),\n",
              "  Text(1500000.0, 0, '1.50'),\n",
              "  Text(1750000.0, 0, '1.75'),\n",
              "  Text(2000000.0, 0, '2.00'),\n",
              "  Text(2250000.0, 0, '2.25')])"
            ]
          },
          "metadata": {},
          "execution_count": 42
        },
        {
          "output_type": "display_data",
          "data": {
            "text/plain": [
              "<Figure size 800x550 with 1 Axes>"
            ],
            "image/png": "[encoded data removed]"
          },
          "metadata": {}
        }
      ],
      "source": [
        "# Una solución es rotar tus xticklabels\n",
        "df['precio_max'].hist()\n",
        "plt.xticks(rotation = 45)"
      ]
    },
    {
      "cell_type": "code",
      "execution_count": 37,
      "metadata": {
        "id": "QSYb-BiLzwYT"
      },
      "outputs": [],
      "source": [
        "# Si desea una solución rápida para que las etiquetas xtick sean legibles,\n",
        "# intente cambiar el estilo del gráfico\n",
        "plt.style.use(\"seaborn-v0_8-whitegrid\")"
      ]
    },
    {
      "cell_type": "code",
      "execution_count": 43,
      "metadata": {
        "colab": {
          "base_uri": "https://localhost:8080/",
          "height": 519
        },
        "id": "8EI3UBmPzwYT",
        "outputId": "9be49a7a-74d1-4ed6-ab4d-4aa0ff6c2c04"
      },
      "outputs": [
        {
          "output_type": "execute_result",
          "data": {
            "text/plain": [
              "<Axes: >"
            ]
          },
          "metadata": {},
          "execution_count": 43
        },
        {
          "output_type": "display_data",
          "data": {
            "text/plain": [
              "<Figure size 800x550 with 1 Axes>"
            ],
            "image/png": "[encoded data removed]"
          },
          "metadata": {}
        }
      ],
      "source": [
        "# Cambiar el número de contenedores\n",
        "# Parece mejor, pero todavía tenemos espacio vacío\n",
        "df['precio_max'].hist(bins = 30)"
      ]
    },
    {
      "cell_type": "code",
      "execution_count": 45,
      "metadata": {
        "colab": {
          "base_uri": "https://localhost:8080/",
          "height": 501
        },
        "id": "GMT6FX0bzwYT",
        "outputId": "81866dac-859c-41ad-fe8c-62d3de596bbf"
      },
      "outputs": [
        {
          "output_type": "execute_result",
          "data": {
            "text/plain": [
              "<Axes: >"
            ]
          },
          "metadata": {},
          "execution_count": 45
        },
        {
          "output_type": "display_data",
          "data": {
            "text/plain": [
              "<Figure size 800x550 with 1 Axes>"
            ],
            "image/png": "[encoded data removed]"
          },
          "metadata": {}
        }
      ],
      "source": [
        "# visualizar un subconjunto de los datos\n",
        "\n",
        "price_filter = df.loc[:, 'precio_max'].between(300000, 750000)\n",
        "df.loc[price_filter, 'precio_max'].hist(bins = 30)"
      ]
    },
    {
      "cell_type": "code",
      "execution_count": 46,
      "metadata": {
        "colab": {
          "base_uri": "https://localhost:8080/",
          "height": 501
        },
        "id": "2IAGrhXfzwYT",
        "outputId": "18fe70cc-9e5b-4e9d-a7d5-95890e6884e9"
      },
      "outputs": [
        {
          "output_type": "execute_result",
          "data": {
            "text/plain": [
              "<Axes: >"
            ]
          },
          "metadata": {},
          "execution_count": 46
        },
        {
          "output_type": "display_data",
          "data": {
            "text/plain": [
              "<Figure size 800x550 with 1 Axes>"
            ],
            "image/png": "[encoded data removed]"
          },
          "metadata": {}
        }
      ],
      "source": [
        "# También puedes cambiar el color del borde y el ancho de línea.\n",
        "price_filter = df.loc[:, 'precio_max'].between(300000, 750000)\n",
        "\n",
        "# También puedes cambiar el color del borde y el ancho de línea.\n",
        "df.loc[price_filter, 'precio_max'].hist(bins = 30,\n",
        "                                   edgecolor='black')"
      ]
    }
  ],
  "metadata": {
    "anaconda-cloud": {},
    "kernelspec": {
      "display_name": "Python 3",
      "language": "python",
      "name": "python3"
    },
    "language_info": {
      "codemirror_mode": {
        "name": "ipython",
        "version": 3
      },
      "file_extension": ".py",
      "mimetype": "text/x-python",
      "name": "python",
      "nbconvert_exporter": "python",
      "pygments_lexer": "ipython3",
      "version": "3.6.8"
    },
    "colab": {
      "provenance": []
    }
  },
  "nbformat": 4,
  "nbformat_minor": 0
}