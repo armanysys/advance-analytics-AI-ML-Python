{
  "cells": [
    {
      "cell_type": "markdown",
      "metadata": {
        "id": "zxx-w3PczwYR"
      },
      "source": [
        "## Histogramas"
      ]
    },
    {
      "cell_type": "markdown",
      "metadata": {
        "id": "_ob0UP8qzwYS"
      },
      "source": [
        "Es una práctica común crear histogramas para explorar los datos, ya que pueden brindar una idea general de cómo se ven. Un histograma es un resumen de la variación de una variable medida. Muestra la cantidad de muestras que se encuentran en una categoría. Un histograma es un tipo de distribución de frecuencia.\n",
        "\n",
        "Los histogramas funcionan agrupando todo el rango de valores en una serie de intervalos y luego contando cuántos valores caen en cada intervalo. Si bien los intervalos suelen tener el mismo tamaño, no es necesario que lo sean."
      ]
    },
    {
      "cell_type": "code",
      "execution_count": 1,
      "metadata": {
        "id": "QfQ99QkZzwYS"
      },
      "outputs": [],
      "source": [
        "# Usando `ìnline` no sea necesario escribir código adicional `plt.show()` para mostrar los gráficos\n",
        "%matplotlib inline\n",
        "\n",
        "import pandas as pd\n",
        "import numpy as np\n",
        "\n",
        "# `plt` es un alias para el módulo `matplotlib.pyplot`\n",
        "import matplotlib.pyplot as plt\n",
        "\n",
        "# importa libreria seaborn (contenedor de matplotlib)\n",
        "import seaborn as sns"
      ]
    },
    {
      "cell_type": "markdown",
      "metadata": {
        "id": "WS9T8tPmzwYT"
      },
      "source": [
        "### Cargando Datos para nuestros graficos\n",
        "\n",
        "Usaremos información sobre publicación de trabajos en las bolsas de internet"
      ]
    },
    {
      "cell_type": "code",
      "execution_count": 6,
      "metadata": {
        "colab": {
          "base_uri": "https://localhost:8080/",
          "height": 377
        },
        "id": "cf56pMhCzwYT",
        "outputId": "fff62ed1-9750-4ff4-9bd7-a0e769e005f4"
      },
      "outputs": [
        {
          "data": {
            "application/vnd.microsoft.datawrangler.viewer.v0+json": {
              "columns": [
                {
                  "name": "index",
                  "rawType": "int64",
                  "type": "integer"
                },
                {
                  "name": "marca",
                  "rawType": "object",
                  "type": "string"
                },
                {
                  "name": "modelo",
                  "rawType": "object",
                  "type": "string"
                },
                {
                  "name": "año",
                  "rawType": "int64",
                  "type": "integer"
                },
                {
                  "name": "sengmento",
                  "rawType": "object",
                  "type": "string"
                },
                {
                  "name": "precio_max",
                  "rawType": "object",
                  "type": "string"
                },
                {
                  "name": "precio_min",
                  "rawType": "object",
                  "type": "string"
                },
                {
                  "name": "pasajeros",
                  "rawType": "int64",
                  "type": "integer"
                },
                {
                  "name": "peso",
                  "rawType": "int64",
                  "type": "integer"
                },
                {
                  "name": "transmision",
                  "rawType": "object",
                  "type": "string"
                },
                {
                  "name": "combustible",
                  "rawType": "object",
                  "type": "string"
                },
                {
                  "name": "tanque",
                  "rawType": "object",
                  "type": "string"
                },
                {
                  "name": "consumo",
                  "rawType": "float64",
                  "type": "float"
                },
                {
                  "name": "largo",
                  "rawType": "float64",
                  "type": "float"
                },
                {
                  "name": "ancho",
                  "rawType": "float64",
                  "type": "float"
                },
                {
                  "name": "altura",
                  "rawType": "float64",
                  "type": "float"
                },
                {
                  "name": "eje",
                  "rawType": "float64",
                  "type": "float"
                },
                {
                  "name": "4x4/awd",
                  "rawType": "object",
                  "type": "string"
                },
                {
                  "name": "big_volume_cargo",
                  "rawType": "object",
                  "type": "string"
                },
                {
                  "name": "cajuela",
                  "rawType": "object",
                  "type": "string"
                },
                {
                  "name": "front_break",
                  "rawType": "object",
                  "type": "string"
                },
                {
                  "name": "rear_break",
                  "rawType": "object",
                  "type": "string"
                },
                {
                  "name": "braking_assists",
                  "rawType": "object",
                  "type": "string"
                },
                {
                  "name": "height_to_the ground",
                  "rawType": "object",
                  "type": "string"
                },
                {
                  "name": "front_airbags",
                  "rawType": "object",
                  "type": "string"
                },
                {
                  "name": "side_airbags",
                  "rawType": "object",
                  "type": "string"
                },
                {
                  "name": "curtain_air_bags",
                  "rawType": "object",
                  "type": "string"
                },
                {
                  "name": "knee_air_bags",
                  "rawType": "object",
                  "type": "string"
                },
                {
                  "name": "monitor_llantas",
                  "rawType": "object",
                  "type": "string"
                },
                {
                  "name": "NCAP",
                  "rawType": "int64",
                  "type": "integer"
                },
                {
                  "name": "frenos_emergencia",
                  "rawType": "object",
                  "type": "string"
                },
                {
                  "name": "camara_reversa",
                  "rawType": "object",
                  "type": "string"
                },
                {
                  "name": "camara_360",
                  "rawType": "object",
                  "type": "string"
                },
                {
                  "name": "bluetooth",
                  "rawType": "object",
                  "type": "string"
                },
                {
                  "name": "android_auto/apple+play",
                  "rawType": "object",
                  "type": "string"
                },
                {
                  "name": "cruise_control",
                  "rawType": "object",
                  "type": "string"
                },
                {
                  "name": "cruise_control_advanced",
                  "rawType": "object",
                  "type": "string"
                },
                {
                  "name": "blind_spot_alert",
                  "rawType": "object",
                  "type": "string"
                },
                {
                  "name": "sensor_lluvia",
                  "rawType": "object",
                  "type": "string"
                },
                {
                  "name": "car_tow",
                  "rawType": "object",
                  "type": "string"
                },
                {
                  "name": "car_pull",
                  "rawType": "object",
                  "type": "string"
                },
                {
                  "name": "tipo_chasis",
                  "rawType": "object",
                  "type": "string"
                }
              ],
              "conversionMethod": "pd.DataFrame",
              "ref": "af6e81db-e376-4024-8d83-a8523f60b84e",
              "rows": [
                [
                  "0",
                  "Toyota",
                  "Yaris BASE MT",
                  "2024",
                  "Sedan-SmallSize",
                  "$316,100",
                  "$316,100",
                  "5",
                  "1035",
                  "S",
                  "Gas",
                  "40",
                  "20.0",
                  "4.4",
                  "1.6",
                  "1.4",
                  "2.6",
                  "no",
                  "no",
                  "475",
                  "disc_brakes",
                  "drum_brakes",
                  "VSC/TRAC/HAC",
                  "normal",
                  "yes",
                  "yes",
                  "yes",
                  "no",
                  "yes",
                  "5",
                  "no",
                  "yes",
                  "no",
                  "yes",
                  "yes",
                  "no",
                  "no",
                  "no",
                  "no",
                  "no",
                  "no",
                  "Sedan"
                ],
                [
                  "1",
                  "Toyota",
                  "Yaris BASE CVT",
                  "2024",
                  "Sedan-SmallSize",
                  "$331,100",
                  "$331,100",
                  "5",
                  "1035",
                  "A",
                  "Gas",
                  "40",
                  "20.0",
                  "4.4",
                  "1.6",
                  "1.4",
                  "2.6",
                  "no",
                  "no",
                  "475",
                  "disc_brakes",
                  "drum_brakes",
                  "VSC/TRAC/HAC",
                  "normal",
                  "yes",
                  "yes",
                  "yes",
                  "no",
                  "yes",
                  "5",
                  "no",
                  "yes",
                  "no",
                  "yes",
                  "yes",
                  "no",
                  "no",
                  "no",
                  "no",
                  "no",
                  "no",
                  "Sedan"
                ],
                [
                  "2",
                  "Toyota",
                  "Yaris S MT",
                  "2024",
                  "Sedan-SmallSize",
                  "$341,000",
                  "$341,000",
                  "5",
                  "1035",
                  "S",
                  "Gas",
                  "40",
                  "20.0",
                  "4.4",
                  "1.6",
                  "1.4",
                  "2.6",
                  "no",
                  "no",
                  "475",
                  "disc_brakes",
                  "drum_brakes",
                  "VSC/TRAC/HAC",
                  "normal",
                  "yes",
                  "yes",
                  "yes",
                  "no",
                  "yes",
                  "5",
                  "no",
                  "yes",
                  "no",
                  "yes",
                  "yes",
                  "no",
                  "no",
                  "no",
                  "no",
                  "no",
                  "no",
                  "Sedan"
                ],
                [
                  "3",
                  "Toyota",
                  "Yaris S CVT",
                  "2024",
                  "Sedan-SmallSize",
                  "$356,000",
                  "$356,000",
                  "5",
                  "1035",
                  "A",
                  "Gas",
                  "40",
                  "20.0",
                  "4.4",
                  "1.6",
                  "1.4",
                  "2.6",
                  "no",
                  "no",
                  "475",
                  "disc_brakes",
                  "drum_brakes",
                  "VSC/TRAC/HAC",
                  "normal",
                  "yes",
                  "yes",
                  "yes",
                  "no",
                  "yes",
                  "5",
                  "no",
                  "yes",
                  "no",
                  "yes",
                  "yes",
                  "no",
                  "no",
                  "no",
                  "no",
                  "no",
                  "no",
                  "Sedan"
                ],
                [
                  "4",
                  "Toyota",
                  "Yaris S CVT Hi",
                  "2024",
                  "Sedan-SmallSize",
                  "$392,200",
                  "$392,200",
                  "5",
                  "1035",
                  "A",
                  "Gas",
                  "40",
                  "20.0",
                  "4.4",
                  "1.6",
                  "1.4",
                  "2.6",
                  "no",
                  "no",
                  "475",
                  "disc_brakes",
                  "drum_brakes",
                  "VSC/TRAC/HAC",
                  "normal",
                  "yes",
                  "yes",
                  "yes",
                  "no",
                  "yes",
                  "5",
                  "no",
                  "yes",
                  "no",
                  "yes",
                  "yes",
                  "yes",
                  "yes",
                  "yes",
                  "no",
                  "no",
                  "no",
                  "Sedan"
                ]
              ],
              "shape": {
                "columns": 41,
                "rows": 5
              }
            },
            "text/html": [
              "<div>\n",
              "<style scoped>\n",
              "    .dataframe tbody tr th:only-of-type {\n",
              "        vertical-align: middle;\n",
              "    }\n",
              "\n",
              "    .dataframe tbody tr th {\n",
              "        vertical-align: top;\n",
              "    }\n",
              "\n",
              "    .dataframe thead th {\n",
              "        text-align: right;\n",
              "    }\n",
              "</style>\n",
              "<table border=\"1\" class=\"dataframe\">\n",
              "  <thead>\n",
              "    <tr style=\"text-align: right;\">\n",
              "      <th></th>\n",
              "      <th>marca</th>\n",
              "      <th>modelo</th>\n",
              "      <th>año</th>\n",
              "      <th>sengmento</th>\n",
              "      <th>precio_max</th>\n",
              "      <th>precio_min</th>\n",
              "      <th>pasajeros</th>\n",
              "      <th>peso</th>\n",
              "      <th>transmision</th>\n",
              "      <th>combustible</th>\n",
              "      <th>...</th>\n",
              "      <th>camara_360</th>\n",
              "      <th>bluetooth</th>\n",
              "      <th>android_auto/apple+play</th>\n",
              "      <th>cruise_control</th>\n",
              "      <th>cruise_control_advanced</th>\n",
              "      <th>blind_spot_alert</th>\n",
              "      <th>sensor_lluvia</th>\n",
              "      <th>car_tow</th>\n",
              "      <th>car_pull</th>\n",
              "      <th>tipo_chasis</th>\n",
              "    </tr>\n",
              "  </thead>\n",
              "  <tbody>\n",
              "    <tr>\n",
              "      <th>0</th>\n",
              "      <td>Toyota</td>\n",
              "      <td>Yaris BASE MT</td>\n",
              "      <td>2024</td>\n",
              "      <td>Sedan-SmallSize</td>\n",
              "      <td>$316,100</td>\n",
              "      <td>$316,100</td>\n",
              "      <td>5</td>\n",
              "      <td>1035</td>\n",
              "      <td>S</td>\n",
              "      <td>Gas</td>\n",
              "      <td>...</td>\n",
              "      <td>no</td>\n",
              "      <td>yes</td>\n",
              "      <td>yes</td>\n",
              "      <td>no</td>\n",
              "      <td>no</td>\n",
              "      <td>no</td>\n",
              "      <td>no</td>\n",
              "      <td>no</td>\n",
              "      <td>no</td>\n",
              "      <td>Sedan</td>\n",
              "    </tr>\n",
              "    <tr>\n",
              "      <th>1</th>\n",
              "      <td>Toyota</td>\n",
              "      <td>Yaris BASE CVT</td>\n",
              "      <td>2024</td>\n",
              "      <td>Sedan-SmallSize</td>\n",
              "      <td>$331,100</td>\n",
              "      <td>$331,100</td>\n",
              "      <td>5</td>\n",
              "      <td>1035</td>\n",
              "      <td>A</td>\n",
              "      <td>Gas</td>\n",
              "      <td>...</td>\n",
              "      <td>no</td>\n",
              "      <td>yes</td>\n",
              "      <td>yes</td>\n",
              "      <td>no</td>\n",
              "      <td>no</td>\n",
              "      <td>no</td>\n",
              "      <td>no</td>\n",
              "      <td>no</td>\n",
              "      <td>no</td>\n",
              "      <td>Sedan</td>\n",
              "    </tr>\n",
              "    <tr>\n",
              "      <th>2</th>\n",
              "      <td>Toyota</td>\n",
              "      <td>Yaris S MT</td>\n",
              "      <td>2024</td>\n",
              "      <td>Sedan-SmallSize</td>\n",
              "      <td>$341,000</td>\n",
              "      <td>$341,000</td>\n",
              "      <td>5</td>\n",
              "      <td>1035</td>\n",
              "      <td>S</td>\n",
              "      <td>Gas</td>\n",
              "      <td>...</td>\n",
              "      <td>no</td>\n",
              "      <td>yes</td>\n",
              "      <td>yes</td>\n",
              "      <td>no</td>\n",
              "      <td>no</td>\n",
              "      <td>no</td>\n",
              "      <td>no</td>\n",
              "      <td>no</td>\n",
              "      <td>no</td>\n",
              "      <td>Sedan</td>\n",
              "    </tr>\n",
              "    <tr>\n",
              "      <th>3</th>\n",
              "      <td>Toyota</td>\n",
              "      <td>Yaris S CVT</td>\n",
              "      <td>2024</td>\n",
              "      <td>Sedan-SmallSize</td>\n",
              "      <td>$356,000</td>\n",
              "      <td>$356,000</td>\n",
              "      <td>5</td>\n",
              "      <td>1035</td>\n",
              "      <td>A</td>\n",
              "      <td>Gas</td>\n",
              "      <td>...</td>\n",
              "      <td>no</td>\n",
              "      <td>yes</td>\n",
              "      <td>yes</td>\n",
              "      <td>no</td>\n",
              "      <td>no</td>\n",
              "      <td>no</td>\n",
              "      <td>no</td>\n",
              "      <td>no</td>\n",
              "      <td>no</td>\n",
              "      <td>Sedan</td>\n",
              "    </tr>\n",
              "    <tr>\n",
              "      <th>4</th>\n",
              "      <td>Toyota</td>\n",
              "      <td>Yaris S CVT Hi</td>\n",
              "      <td>2024</td>\n",
              "      <td>Sedan-SmallSize</td>\n",
              "      <td>$392,200</td>\n",
              "      <td>$392,200</td>\n",
              "      <td>5</td>\n",
              "      <td>1035</td>\n",
              "      <td>A</td>\n",
              "      <td>Gas</td>\n",
              "      <td>...</td>\n",
              "      <td>no</td>\n",
              "      <td>yes</td>\n",
              "      <td>yes</td>\n",
              "      <td>yes</td>\n",
              "      <td>yes</td>\n",
              "      <td>yes</td>\n",
              "      <td>no</td>\n",
              "      <td>no</td>\n",
              "      <td>no</td>\n",
              "      <td>Sedan</td>\n",
              "    </tr>\n",
              "  </tbody>\n",
              "</table>\n",
              "<p>5 rows × 41 columns</p>\n",
              "</div>"
            ],
            "text/plain": [
              "    marca          modelo   año        sengmento precio_max precio_min  \\\n",
              "0  Toyota   Yaris BASE MT  2024  Sedan-SmallSize   $316,100   $316,100   \n",
              "1  Toyota  Yaris BASE CVT  2024  Sedan-SmallSize   $331,100   $331,100   \n",
              "2  Toyota      Yaris S MT  2024  Sedan-SmallSize   $341,000   $341,000   \n",
              "3  Toyota     Yaris S CVT  2024  Sedan-SmallSize   $356,000   $356,000   \n",
              "4  Toyota  Yaris S CVT Hi  2024  Sedan-SmallSize   $392,200   $392,200   \n",
              "\n",
              "   pasajeros  peso transmision combustible  ... camara_360  bluetooth  \\\n",
              "0          5  1035           S         Gas  ...         no        yes   \n",
              "1          5  1035           A         Gas  ...         no        yes   \n",
              "2          5  1035           S         Gas  ...         no        yes   \n",
              "3          5  1035           A         Gas  ...         no        yes   \n",
              "4          5  1035           A         Gas  ...         no        yes   \n",
              "\n",
              "   android_auto/apple+play  cruise_control  cruise_control_advanced  \\\n",
              "0                      yes              no                       no   \n",
              "1                      yes              no                       no   \n",
              "2                      yes              no                       no   \n",
              "3                      yes              no                       no   \n",
              "4                      yes             yes                      yes   \n",
              "\n",
              "   blind_spot_alert sensor_lluvia car_tow car_pull tipo_chasis  \n",
              "0                no            no      no       no       Sedan  \n",
              "1                no            no      no       no       Sedan  \n",
              "2                no            no      no       no       Sedan  \n",
              "3                no            no      no       no       Sedan  \n",
              "4               yes            no      no       no       Sedan  \n",
              "\n",
              "[5 rows x 41 columns]"
            ]
          },
          "execution_count": 6,
          "metadata": {},
          "output_type": "execute_result"
        }
      ],
      "source": [
        "df = pd.read_csv('content/car_m_v_dataset.csv', skiprows=1, encoding='latin-1')\n",
        "df.head()"
      ]
    },
    {
      "cell_type": "code",
      "execution_count": 5,
      "metadata": {
        "colab": {
          "base_uri": "https://localhost:8080/"
        },
        "id": "5EJipvcpEyQM",
        "outputId": "56c30324-90d3-4b41-d044-48653a4cfd9f"
      },
      "outputs": [
        {
          "name": "stdout",
          "output_type": "stream",
          "text": [
            "<class 'pandas.core.frame.DataFrame'>\n",
            "RangeIndex: 241 entries, 0 to 240\n",
            "Data columns (total 41 columns):\n",
            " #   Column                   Non-Null Count  Dtype  \n",
            "---  ------                   --------------  -----  \n",
            " 0   marca                    241 non-null    object \n",
            " 1   modelo                   241 non-null    object \n",
            " 2   año                      241 non-null    int64  \n",
            " 3   sengmento                241 non-null    object \n",
            " 4   precio_max               241 non-null    object \n",
            " 5   precio_min               241 non-null    object \n",
            " 6   pasajeros                241 non-null    int64  \n",
            " 7   peso                     241 non-null    int64  \n",
            " 8   transmision              241 non-null    object \n",
            " 9   combustible              241 non-null    object \n",
            " 10  tanque                   241 non-null    object \n",
            " 11  consumo                  237 non-null    float64\n",
            " 12  largo                    241 non-null    float64\n",
            " 13  ancho                    241 non-null    float64\n",
            " 14  altura                   241 non-null    float64\n",
            " 15  eje                      241 non-null    float64\n",
            " 16  4x4/awd                  241 non-null    object \n",
            " 17  big_volume_cargo         241 non-null    object \n",
            " 18  cajuela                  241 non-null    object \n",
            " 19  front_break              241 non-null    object \n",
            " 20  rear_break               241 non-null    object \n",
            " 21  braking_assists          241 non-null    object \n",
            " 22  height_to_the ground     241 non-null    object \n",
            " 23  front_airbags            241 non-null    object \n",
            " 24  side_airbags             241 non-null    object \n",
            " 25  curtain_air_bags         241 non-null    object \n",
            " 26  knee_air_bags            241 non-null    object \n",
            " 27  monitor_llantas          241 non-null    object \n",
            " 28  NCAP                     241 non-null    int64  \n",
            " 29  frenos_emergencia        241 non-null    object \n",
            " 30  camara_reversa           241 non-null    object \n",
            " 31  camara_360               241 non-null    object \n",
            " 32  bluetooth                241 non-null    object \n",
            " 33  android_auto/apple+play  241 non-null    object \n",
            " 34  cruise_control           241 non-null    object \n",
            " 35  cruise_control_advanced  241 non-null    object \n",
            " 36  blind_spot_alert         241 non-null    object \n",
            " 37  sensor_lluvia            241 non-null    object \n",
            " 38  car_tow                  241 non-null    object \n",
            " 39  car_pull                 241 non-null    object \n",
            " 40  tipo_chasis              241 non-null    object \n",
            "dtypes: float64(5), int64(4), object(32)\n",
            "memory usage: 77.3+ KB\n"
          ]
        }
      ],
      "source": [
        "df.info()"
      ]
    },
    {
      "cell_type": "code",
      "execution_count": 13,
      "metadata": {
        "id": "_vSHL_OFFHcO"
      },
      "outputs": [],
      "source": [
        "df[\"precio_max\"] = df[\"precio_max\"].str.replace(r'\\D+', '', regex=True)\n",
        "df[\"precio_max\"] = df[\"precio_max\"].astype(int)"
      ]
    },
    {
      "cell_type": "markdown",
      "metadata": {
        "id": "SSsapC-tzwYT"
      },
      "source": [
        "## Histograms using Pandas\n",
        "\n",
        "The goal of this particular visualization is to make a histogram on the `price` column. In doing this, you will see creating a data visualization can be an iterative process."
      ]
    },
    {
      "cell_type": "code",
      "execution_count": 14,
      "metadata": {
        "colab": {
          "base_uri": "https://localhost:8080/",
          "height": 241
        },
        "id": "AjEZz6mXzwYT",
        "outputId": "96c0d9f6-4e54-4a68-d9a1-9db276c54e61"
      },
      "outputs": [
        {
          "data": {
            "text/plain": [
              "0    316100\n",
              "1    331100\n",
              "2    341000\n",
              "3    356000\n",
              "4    392200\n",
              "Name: precio_max, dtype: int64"
            ]
          },
          "execution_count": 14,
          "metadata": {},
          "output_type": "execute_result"
        }
      ],
      "source": [
        "df['precio_max'].head()"
      ]
    },
    {
      "cell_type": "code",
      "execution_count": 15,
      "metadata": {
        "colab": {
          "base_uri": "https://localhost:8080/",
          "height": 519
        },
        "id": "EVZ6b88WzwYT",
        "outputId": "8ee9f7e2-a079-46cb-eb3a-9dd740e0c155"
      },
      "outputs": [
        {
          "data": {
            "text/plain": [
              "<Axes: >"
            ]
          },
          "execution_count": 15,
          "metadata": {},
          "output_type": "execute_result"
        },
        {
          "data": {
            "image/png": "[encoded data removed]",
            "text/plain": [
              "<Figure size 640x480 with 1 Axes>"
            ]
          },
          "metadata": {},
          "output_type": "display_data"
        }
      ],
      "source": [
        "# Usar la configuración predeterminada no es una buena idea\n",
        "# Tenga en cuenta que las visualizaciones son un proceso interactivo.\n",
        "df['precio_max'].hist()"
      ]
    },
    {
      "cell_type": "code",
      "execution_count": 18,
      "metadata": {
        "colab": {
          "base_uri": "https://localhost:8080/",
          "height": 725
        },
        "id": "8nNdpOoWzwYT",
        "outputId": "be4e6e60-213a-4c2a-ef36-7e8a36864cc4"
      },
      "outputs": [
        {
          "data": {
            "text/plain": [
              "(array([      0.,  250000.,  500000.,  750000., 1000000., 1250000.,\n",
              "        1500000., 1750000., 2000000., 2250000.]),\n",
              " [Text(0.0, 0, '0.00'),\n",
              "  Text(250000.0, 0, '0.25'),\n",
              "  Text(500000.0, 0, '0.50'),\n",
              "  Text(750000.0, 0, '0.75'),\n",
              "  Text(1000000.0, 0, '1.00'),\n",
              "  Text(1250000.0, 0, '1.25'),\n",
              "  Text(1500000.0, 0, '1.50'),\n",
              "  Text(1750000.0, 0, '1.75'),\n",
              "  Text(2000000.0, 0, '2.00'),\n",
              "  Text(2250000.0, 0, '2.25')])"
            ]
          },
          "execution_count": 18,
          "metadata": {},
          "output_type": "execute_result"
        },
        {
          "data": {
            "image/png": "[encoded data removed]",
            "text/plain": [
              "<Figure size 640x480 with 1 Axes>"
            ]
          },
          "metadata": {},
          "output_type": "display_data"
        }
      ],
      "source": [
        "# Una solución es rotar tus xticklabels\n",
        "df['precio_max'].hist()\n",
        "plt.xticks(rotation = 45)"
      ]
    },
    {
      "cell_type": "code",
      "execution_count": 19,
      "metadata": {
        "id": "QSYb-BiLzwYT"
      },
      "outputs": [],
      "source": [
        "# Si desea una solución rápida para que las etiquetas xtick sean legibles,\n",
        "# intente cambiar el estilo del gráfico\n",
        "plt.style.use(\"seaborn-v0_8-whitegrid\")"
      ]
    },
    {
      "cell_type": "code",
      "execution_count": 20,
      "metadata": {
        "colab": {
          "base_uri": "https://localhost:8080/",
          "height": 519
        },
        "id": "8EI3UBmPzwYT",
        "outputId": "9be49a7a-74d1-4ed6-ab4d-4aa0ff6c2c04"
      },
      "outputs": [
        {
          "data": {
            "text/plain": [
              "<Axes: >"
            ]
          },
          "execution_count": 20,
          "metadata": {},
          "output_type": "execute_result"
        },
        {
          "data": {
            "image/png": "[encoded data removed]",
            "text/plain": [
              "<Figure size 640x480 with 1 Axes>"
            ]
          },
          "metadata": {},
          "output_type": "display_data"
        }
      ],
      "source": [
        "# Cambiar el número de contenedores\n",
        "# Parece mejor, pero todavía tenemos espacio vacío\n",
        "df['precio_max'].hist(bins = 30)"
      ]
    },
    {
      "cell_type": "code",
      "execution_count": 21,
      "metadata": {
        "colab": {
          "base_uri": "https://localhost:8080/",
          "height": 501
        },
        "id": "GMT6FX0bzwYT",
        "outputId": "81866dac-859c-41ad-fe8c-62d3de596bbf"
      },
      "outputs": [
        {
          "data": {
            "text/plain": [
              "<Axes: >"
            ]
          },
          "execution_count": 21,
          "metadata": {},
          "output_type": "execute_result"
        },
        {
          "data": {
            "image/png": "[encoded data removed]",
            "text/plain": [
              "<Figure size 640x480 with 1 Axes>"
            ]
          },
          "metadata": {},
          "output_type": "display_data"
        }
      ],
      "source": [
        "# visualizar un subconjunto de los datos\n",
        "\n",
        "price_filter = df.loc[:, 'precio_max'].between(300000, 750000)\n",
        "df.loc[price_filter, 'precio_max'].hist(bins = 30)"
      ]
    },
    {
      "cell_type": "code",
      "execution_count": 22,
      "metadata": {
        "colab": {
          "base_uri": "https://localhost:8080/",
          "height": 501
        },
        "id": "2IAGrhXfzwYT",
        "outputId": "18fe70cc-9e5b-4e9d-a7d5-95890e6884e9"
      },
      "outputs": [
        {
          "data": {
            "text/plain": [
              "<Axes: >"
            ]
          },
          "execution_count": 22,
          "metadata": {},
          "output_type": "execute_result"
        },
        {
          "data": {
            "image/png": "[encoded data removed]",
            "text/plain": [
              "<Figure size 640x480 with 1 Axes>"
            ]
          },
          "metadata": {},
          "output_type": "display_data"
        }
      ],
      "source": [
        "# También puedes cambiar el color del borde y el ancho de línea.\n",
        "price_filter = df.loc[:, 'precio_max'].between(300000, 750000)\n",
        "\n",
        "# También puedes cambiar el color del borde y el ancho de línea.\n",
        "df.loc[price_filter, 'precio_max'].hist(bins = 30,\n",
        "                                   edgecolor='black')"
      ]
    }
  ],
  "metadata": {
    "anaconda-cloud": {},
    "colab": {
      "provenance": []
    },
    "kernelspec": {
      "display_name": "Python 3",
      "language": "python",
      "name": "python3"
    },
    "language_info": {
      "codemirror_mode": {
        "name": "ipython",
        "version": 3
      },
      "file_extension": ".py",
      "mimetype": "text/x-python",
      "name": "python",
      "nbconvert_exporter": "python",
      "pygments_lexer": "ipython3",
      "version": "3.12.10"
    }
  },
  "nbformat": 4,
  "nbformat_minor": 0
}
