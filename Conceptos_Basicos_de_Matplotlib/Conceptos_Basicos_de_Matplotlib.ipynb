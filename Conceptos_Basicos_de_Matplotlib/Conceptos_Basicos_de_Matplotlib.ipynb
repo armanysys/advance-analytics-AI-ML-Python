{
  "cells": [
    {
      "cell_type": "markdown",
      "metadata": {
        "id": "0Pdmk1XDUvnH"
      },
      "source": [
        "## Conceptos básicos de Matplotlib\n",
        "\n",
        "### ¿Qué es Matplotlib?\n",
        "La biblioteca [matplotlib](http://matplotlib.org) es una potente herramienta capaz de producir figuras complejas con calidad de publicación y un control preciso del diseño en dos y tres dimensiones. Si bien es una biblioteca antigua, muchas bibliotecas se basan en ella y utilizan su sintaxis."
      ]
    },
    {
      "cell_type": "code",
      "execution_count": 23,
      "metadata": {
        "id": "iGj4-VLIUvnJ"
      },
      "outputs": [],
      "source": [
        "# Usando `ìnline` no sea necesario escribir código adicional `plt.show()` para mostrar los gráficos\n",
        "%matplotlib inline\n",
        "\n",
        "import pandas as pd\n",
        "import numpy as np\n",
        "\n",
        "# `plt` es un alias para el módulo `matplotlib.pyplot`\n",
        "import matplotlib.pyplot as plt\n",
        "\n",
        "# importa libreria seaborn (contenedor de matplotlib)\n",
        "import seaborn as sns"
      ]
    },
    {
      "cell_type": "markdown",
      "metadata": {
        "id": "KmdV2GOjUvnJ"
      },
      "source": [
        "### Carga los datos"
      ]
    },
    {
      "cell_type": "code",
      "execution_count": 3,
      "metadata": {
        "id": "AUIokHmiUvnK"
      },
      "outputs": [],
      "source": [
        "# Cargar datos de préstamos de automóviles en un marco de datos de pandas desde un archivo csv\n",
        "filename = 'content/table_i702t60.csv'\n",
        "df = pd.read_csv(filename)"
      ]
    },
    {
      "cell_type": "code",
      "execution_count": 4,
      "metadata": {
        "colab": {
          "base_uri": "https://localhost:8080/",
          "height": 206
        },
        "id": "R7yCUtRAUvnK",
        "outputId": "d706523e-a6e6-4eb2-c0b1-ac9a1e38ea10"
      },
      "outputs": [
        {
          "data": {
            "application/vnd.microsoft.datawrangler.viewer.v0+json": {
              "columns": [
                {
                  "name": "index",
                  "rawType": "int64",
                  "type": "integer"
                },
                {
                  "name": "mes",
                  "rawType": "int64",
                  "type": "integer"
                },
                {
                  "name": "saldo_inicial",
                  "rawType": "float64",
                  "type": "float"
                },
                {
                  "name": "interes_pagado",
                  "rawType": "float64",
                  "type": "float"
                },
                {
                  "name": "capital_pagado",
                  "rawType": "float64",
                  "type": "float"
                },
                {
                  "name": "saldo_final",
                  "rawType": "float64",
                  "type": "float"
                },
                {
                  "name": "tasa_interes",
                  "rawType": "float64",
                  "type": "float"
                },
                {
                  "name": "modelo",
                  "rawType": "object",
                  "type": "string"
                }
              ],
              "conversionMethod": "pd.DataFrame",
              "ref": "cfd3c44c-3ef1-442b-9fe9-2c96e8a21df7",
              "rows": [
                [
                  "0",
                  "1",
                  "34689.96",
                  "202.93",
                  "484.3",
                  "34205.66",
                  "0.0702",
                  "Toyota Sienna"
                ],
                [
                  "1",
                  "2",
                  "34205.66",
                  "200.1",
                  "487.13",
                  "33718.53",
                  "0.0702",
                  "Toyota Sienna"
                ],
                [
                  "2",
                  "3",
                  "33718.53",
                  "197.25",
                  "489.98",
                  "33228.55",
                  "0.0702",
                  "Toyota Sienna"
                ],
                [
                  "3",
                  "4",
                  "33228.55",
                  "194.38",
                  "492.85",
                  "32735.7",
                  "0.0702",
                  "Toyota Sienna"
                ],
                [
                  "4",
                  "5",
                  "32735.7",
                  "191.5",
                  "495.73",
                  "32239.97",
                  "0.0702",
                  "Toyota Sienna"
                ]
              ],
              "shape": {
                "columns": 7,
                "rows": 5
              }
            },
            "text/html": [
              "<div>\n",
              "<style scoped>\n",
              "    .dataframe tbody tr th:only-of-type {\n",
              "        vertical-align: middle;\n",
              "    }\n",
              "\n",
              "    .dataframe tbody tr th {\n",
              "        vertical-align: top;\n",
              "    }\n",
              "\n",
              "    .dataframe thead th {\n",
              "        text-align: right;\n",
              "    }\n",
              "</style>\n",
              "<table border=\"1\" class=\"dataframe\">\n",
              "  <thead>\n",
              "    <tr style=\"text-align: right;\">\n",
              "      <th></th>\n",
              "      <th>mes</th>\n",
              "      <th>saldo_inicial</th>\n",
              "      <th>interes_pagado</th>\n",
              "      <th>capital_pagado</th>\n",
              "      <th>saldo_final</th>\n",
              "      <th>tasa_interes</th>\n",
              "      <th>modelo</th>\n",
              "    </tr>\n",
              "  </thead>\n",
              "  <tbody>\n",
              "    <tr>\n",
              "      <th>0</th>\n",
              "      <td>1</td>\n",
              "      <td>34689.96</td>\n",
              "      <td>202.93</td>\n",
              "      <td>484.30</td>\n",
              "      <td>34205.66</td>\n",
              "      <td>0.0702</td>\n",
              "      <td>Toyota Sienna</td>\n",
              "    </tr>\n",
              "    <tr>\n",
              "      <th>1</th>\n",
              "      <td>2</td>\n",
              "      <td>34205.66</td>\n",
              "      <td>200.10</td>\n",
              "      <td>487.13</td>\n",
              "      <td>33718.53</td>\n",
              "      <td>0.0702</td>\n",
              "      <td>Toyota Sienna</td>\n",
              "    </tr>\n",
              "    <tr>\n",
              "      <th>2</th>\n",
              "      <td>3</td>\n",
              "      <td>33718.53</td>\n",
              "      <td>197.25</td>\n",
              "      <td>489.98</td>\n",
              "      <td>33228.55</td>\n",
              "      <td>0.0702</td>\n",
              "      <td>Toyota Sienna</td>\n",
              "    </tr>\n",
              "    <tr>\n",
              "      <th>3</th>\n",
              "      <td>4</td>\n",
              "      <td>33228.55</td>\n",
              "      <td>194.38</td>\n",
              "      <td>492.85</td>\n",
              "      <td>32735.70</td>\n",
              "      <td>0.0702</td>\n",
              "      <td>Toyota Sienna</td>\n",
              "    </tr>\n",
              "    <tr>\n",
              "      <th>4</th>\n",
              "      <td>5</td>\n",
              "      <td>32735.70</td>\n",
              "      <td>191.50</td>\n",
              "      <td>495.73</td>\n",
              "      <td>32239.97</td>\n",
              "      <td>0.0702</td>\n",
              "      <td>Toyota Sienna</td>\n",
              "    </tr>\n",
              "  </tbody>\n",
              "</table>\n",
              "</div>"
            ],
            "text/plain": [
              "   mes  saldo_inicial  interes_pagado  capital_pagado  saldo_final  \\\n",
              "0    1       34689.96          202.93          484.30     34205.66   \n",
              "1    2       34205.66          200.10          487.13     33718.53   \n",
              "2    3       33718.53          197.25          489.98     33228.55   \n",
              "3    4       33228.55          194.38          492.85     32735.70   \n",
              "4    5       32735.70          191.50          495.73     32239.97   \n",
              "\n",
              "   tasa_interes         modelo  \n",
              "0        0.0702  Toyota Sienna  \n",
              "1        0.0702  Toyota Sienna  \n",
              "2        0.0702  Toyota Sienna  \n",
              "3        0.0702  Toyota Sienna  \n",
              "4        0.0702  Toyota Sienna  "
            ]
          },
          "execution_count": 4,
          "metadata": {},
          "output_type": "execute_result"
        }
      ],
      "source": [
        "# Ver las primeras 5 filas del marco de datos\n",
        "df.head()"
      ]
    },
    {
      "cell_type": "code",
      "execution_count": 5,
      "metadata": {
        "colab": {
          "base_uri": "https://localhost:8080/"
        },
        "id": "zC4pJ507UvnL",
        "outputId": "9053b61d-6637-4204-ab67-88834bc42553"
      },
      "outputs": [
        {
          "name": "stdout",
          "output_type": "stream",
          "text": [
            "<class 'pandas.core.frame.DataFrame'>\n",
            "RangeIndex: 60 entries, 0 to 59\n",
            "Data columns (total 7 columns):\n",
            " #   Column          Non-Null Count  Dtype  \n",
            "---  ------          --------------  -----  \n",
            " 0   mes             60 non-null     int64  \n",
            " 1   saldo_inicial   60 non-null     float64\n",
            " 2   interes_pagado  60 non-null     float64\n",
            " 3   capital_pagado  60 non-null     float64\n",
            " 4   saldo_final     60 non-null     float64\n",
            " 5   tasa_interes    60 non-null     float64\n",
            " 6   modelo          60 non-null     object \n",
            "dtypes: float64(5), int64(1), object(1)\n",
            "memory usage: 3.4+ KB\n"
          ]
        }
      ],
      "source": [
        "# Comprobando que no tenemos nans en nuestro marco de datos\n",
        "# No es fácil trazar directamente datos que contienen nans\n",
        "df.info()"
      ]
    },
    {
      "cell_type": "code",
      "execution_count": 6,
      "metadata": {
        "colab": {
          "base_uri": "https://localhost:8080/"
        },
        "id": "uqey0Q1jUvnL",
        "outputId": "9b2be1b3-e500-424a-ee50-150579d8426a"
      },
      "outputs": [
        {
          "data": {
            "text/plain": [
              "(60, 7)"
            ]
          },
          "execution_count": 6,
          "metadata": {},
          "output_type": "execute_result"
        }
      ],
      "source": [
        "df.shape"
      ]
    },
    {
      "cell_type": "code",
      "execution_count": 7,
      "metadata": {
        "colab": {
          "base_uri": "https://localhost:8080/",
          "height": 206
        },
        "id": "wT18W6E4UvnL",
        "outputId": "8acb8ca6-07b2-4b0d-eaaf-404fb509eea2"
      },
      "outputs": [
        {
          "data": {
            "application/vnd.microsoft.datawrangler.viewer.v0+json": {
              "columns": [
                {
                  "name": "index",
                  "rawType": "int64",
                  "type": "integer"
                },
                {
                  "name": "mes",
                  "rawType": "int64",
                  "type": "integer"
                },
                {
                  "name": "saldo_inicial",
                  "rawType": "float64",
                  "type": "float"
                },
                {
                  "name": "interes_pagado",
                  "rawType": "float64",
                  "type": "float"
                },
                {
                  "name": "capital_pagado",
                  "rawType": "float64",
                  "type": "float"
                },
                {
                  "name": "saldo_final",
                  "rawType": "float64",
                  "type": "float"
                },
                {
                  "name": "tasa_interes",
                  "rawType": "float64",
                  "type": "float"
                },
                {
                  "name": "modelo",
                  "rawType": "object",
                  "type": "string"
                }
              ],
              "conversionMethod": "pd.DataFrame",
              "ref": "766c3a15-e3f4-4787-909c-fb39cb9d6261",
              "rows": [
                [
                  "0",
                  "1",
                  "34689.96",
                  "202.93",
                  "484.3",
                  "34205.66",
                  "0.0702",
                  "Toyota Sienna"
                ],
                [
                  "1",
                  "2",
                  "34205.66",
                  "200.1",
                  "487.13",
                  "33718.53",
                  "0.0702",
                  "Toyota Sienna"
                ],
                [
                  "2",
                  "3",
                  "33718.53",
                  "197.25",
                  "489.98",
                  "33228.55",
                  "0.0702",
                  "Toyota Sienna"
                ],
                [
                  "3",
                  "4",
                  "33228.55",
                  "194.38",
                  "492.85",
                  "32735.7",
                  "0.0702",
                  "Toyota Sienna"
                ],
                [
                  "4",
                  "5",
                  "32735.7",
                  "191.5",
                  "495.73",
                  "32239.97",
                  "0.0702",
                  "Toyota Sienna"
                ]
              ],
              "shape": {
                "columns": 7,
                "rows": 5
              }
            },
            "text/html": [
              "<div>\n",
              "<style scoped>\n",
              "    .dataframe tbody tr th:only-of-type {\n",
              "        vertical-align: middle;\n",
              "    }\n",
              "\n",
              "    .dataframe tbody tr th {\n",
              "        vertical-align: top;\n",
              "    }\n",
              "\n",
              "    .dataframe thead th {\n",
              "        text-align: right;\n",
              "    }\n",
              "</style>\n",
              "<table border=\"1\" class=\"dataframe\">\n",
              "  <thead>\n",
              "    <tr style=\"text-align: right;\">\n",
              "      <th></th>\n",
              "      <th>mes</th>\n",
              "      <th>saldo_inicial</th>\n",
              "      <th>interes_pagado</th>\n",
              "      <th>capital_pagado</th>\n",
              "      <th>saldo_final</th>\n",
              "      <th>tasa_interes</th>\n",
              "      <th>modelo</th>\n",
              "    </tr>\n",
              "  </thead>\n",
              "  <tbody>\n",
              "    <tr>\n",
              "      <th>0</th>\n",
              "      <td>1</td>\n",
              "      <td>34689.96</td>\n",
              "      <td>202.93</td>\n",
              "      <td>484.30</td>\n",
              "      <td>34205.66</td>\n",
              "      <td>0.0702</td>\n",
              "      <td>Toyota Sienna</td>\n",
              "    </tr>\n",
              "    <tr>\n",
              "      <th>1</th>\n",
              "      <td>2</td>\n",
              "      <td>34205.66</td>\n",
              "      <td>200.10</td>\n",
              "      <td>487.13</td>\n",
              "      <td>33718.53</td>\n",
              "      <td>0.0702</td>\n",
              "      <td>Toyota Sienna</td>\n",
              "    </tr>\n",
              "    <tr>\n",
              "      <th>2</th>\n",
              "      <td>3</td>\n",
              "      <td>33718.53</td>\n",
              "      <td>197.25</td>\n",
              "      <td>489.98</td>\n",
              "      <td>33228.55</td>\n",
              "      <td>0.0702</td>\n",
              "      <td>Toyota Sienna</td>\n",
              "    </tr>\n",
              "    <tr>\n",
              "      <th>3</th>\n",
              "      <td>4</td>\n",
              "      <td>33228.55</td>\n",
              "      <td>194.38</td>\n",
              "      <td>492.85</td>\n",
              "      <td>32735.70</td>\n",
              "      <td>0.0702</td>\n",
              "      <td>Toyota Sienna</td>\n",
              "    </tr>\n",
              "    <tr>\n",
              "      <th>4</th>\n",
              "      <td>5</td>\n",
              "      <td>32735.70</td>\n",
              "      <td>191.50</td>\n",
              "      <td>495.73</td>\n",
              "      <td>32239.97</td>\n",
              "      <td>0.0702</td>\n",
              "      <td>Toyota Sienna</td>\n",
              "    </tr>\n",
              "  </tbody>\n",
              "</table>\n",
              "</div>"
            ],
            "text/plain": [
              "   mes  saldo_inicial  interes_pagado  capital_pagado  saldo_final  \\\n",
              "0    1       34689.96          202.93          484.30     34205.66   \n",
              "1    2       34205.66          200.10          487.13     33718.53   \n",
              "2    3       33718.53          197.25          489.98     33228.55   \n",
              "3    4       33228.55          194.38          492.85     32735.70   \n",
              "4    5       32735.70          191.50          495.73     32239.97   \n",
              "\n",
              "   tasa_interes         modelo  \n",
              "0        0.0702  Toyota Sienna  \n",
              "1        0.0702  Toyota Sienna  \n",
              "2        0.0702  Toyota Sienna  \n",
              "3        0.0702  Toyota Sienna  \n",
              "4        0.0702  Toyota Sienna  "
            ]
          },
          "execution_count": 7,
          "metadata": {},
          "output_type": "execute_result"
        }
      ],
      "source": [
        "df.head()"
      ]
    },
    {
      "cell_type": "code",
      "execution_count": 8,
      "metadata": {
        "id": "zfZDnzjdUvnL"
      },
      "outputs": [],
      "source": [
        "mes_numero = df.loc[:, 'mes'].values\n",
        "interes_pagado = df.loc[:, 'interes_pagado'].values\n",
        "capital_pagado = df.loc[:, 'capital_pagado'].values"
      ]
    },
    {
      "cell_type": "code",
      "execution_count": 9,
      "metadata": {
        "colab": {
          "base_uri": "https://localhost:8080/"
        },
        "id": "i9hEW492UvnM",
        "outputId": "f6bfcfac-ffc6-4549-b073-14cef93a8708"
      },
      "outputs": [
        {
          "data": {
            "text/plain": [
              "array([ 1,  2,  3,  4,  5,  6,  7,  8,  9, 10, 11, 12, 13, 14, 15, 16, 17,\n",
              "       18, 19, 20, 21, 22, 23, 24, 25, 26, 27, 28, 29, 30, 31, 32, 33, 34,\n",
              "       35, 36, 37, 38, 39, 40, 41, 42, 43, 44, 45, 46, 47, 48, 49, 50, 51,\n",
              "       52, 53, 54, 55, 56, 57, 58, 59, 60])"
            ]
          },
          "execution_count": 9,
          "metadata": {},
          "output_type": "execute_result"
        }
      ],
      "source": [
        "mes_numero"
      ]
    },
    {
      "cell_type": "code",
      "execution_count": 10,
      "metadata": {
        "colab": {
          "base_uri": "https://localhost:8080/"
        },
        "id": "R9smgMwAUvnM",
        "outputId": "2f4dd5a6-2aa3-4393-bb4f-79d8b5465e38"
      },
      "outputs": [
        {
          "data": {
            "text/plain": [
              "numpy.ndarray"
            ]
          },
          "execution_count": 10,
          "metadata": {},
          "output_type": "execute_result"
        }
      ],
      "source": [
        "# El atributo values ​​convierte una columna de valores en una matriz numpy\n",
        "type(mes_numero)"
      ]
    },
    {
      "cell_type": "markdown",
      "metadata": {
        "id": "hJPfWXS0UvnM"
      },
      "source": [
        "# El atributo values ​​convierte una columna de valores en una matriz numpy\n",
        "### Método `plot`\n",
        "Se traza month_number en el eje x y el capital pagado en el eje y. Como recordatorio, si no sabe qué acepta un método, puede usar la función incorporada `help`"
      ]
    },
    {
      "cell_type": "code",
      "execution_count": 11,
      "metadata": {
        "colab": {
          "base_uri": "https://localhost:8080/"
        },
        "id": "N5_l6Mc7UvnM",
        "outputId": "8695d204-657a-482e-af16-247ccf3df90c"
      },
      "outputs": [
        {
          "name": "stdout",
          "output_type": "stream",
          "text": [
            "Help on function plot in module matplotlib.pyplot:\n",
            "\n",
            "plot(*args: 'float | ArrayLike | str', scalex: 'bool' = True, scaley: 'bool' = True, data=None, **kwargs) -> 'list[Line2D]'\n",
            "    Plot y versus x as lines and/or markers.\n",
            "\n",
            "    Call signatures::\n",
            "\n",
            "        plot([x], y, [fmt], *, data=None, **kwargs)\n",
            "        plot([x], y, [fmt], [x2], y2, [fmt2], ..., **kwargs)\n",
            "\n",
            "    The coordinates of the points or line nodes are given by *x*, *y*.\n",
            "\n",
            "    The optional parameter *fmt* is a convenient way for defining basic\n",
            "    formatting like color, marker and linestyle. It's a shortcut string\n",
            "    notation described in the *Notes* section below.\n",
            "\n",
            "    >>> plot(x, y)        # plot x and y using default line style and color\n",
            "    >>> plot(x, y, 'bo')  # plot x and y using blue circle markers\n",
            "    >>> plot(y)           # plot y using x as index array 0..N-1\n",
            "    >>> plot(y, 'r+')     # ditto, but with red plusses\n",
            "\n",
            "    You can use `.Line2D` properties as keyword arguments for more\n",
            "    control on the appearance. Line properties and *fmt* can be mixed.\n",
            "    The following two calls yield identical results:\n",
            "\n",
            "    >>> plot(x, y, 'go--', linewidth=2, markersize=12)\n",
            "    >>> plot(x, y, color='green', marker='o', linestyle='dashed',\n",
            "    ...      linewidth=2, markersize=12)\n",
            "\n",
            "    When conflicting with *fmt*, keyword arguments take precedence.\n",
            "\n",
            "\n",
            "    **Plotting labelled data**\n",
            "\n",
            "    There's a convenient way for plotting objects with labelled data (i.e.\n",
            "    data that can be accessed by index ``obj['y']``). Instead of giving\n",
            "    the data in *x* and *y*, you can provide the object in the *data*\n",
            "    parameter and just give the labels for *x* and *y*::\n",
            "\n",
            "    >>> plot('xlabel', 'ylabel', data=obj)\n",
            "\n",
            "    All indexable objects are supported. This could e.g. be a `dict`, a\n",
            "    `pandas.DataFrame` or a structured numpy array.\n",
            "\n",
            "\n",
            "    **Plotting multiple sets of data**\n",
            "\n",
            "    There are various ways to plot multiple sets of data.\n",
            "\n",
            "    - The most straight forward way is just to call `plot` multiple times.\n",
            "      Example:\n",
            "\n",
            "      >>> plot(x1, y1, 'bo')\n",
            "      >>> plot(x2, y2, 'go')\n",
            "\n",
            "    - If *x* and/or *y* are 2D arrays, a separate data set will be drawn\n",
            "      for every column. If both *x* and *y* are 2D, they must have the\n",
            "      same shape. If only one of them is 2D with shape (N, m) the other\n",
            "      must have length N and will be used for every data set m.\n",
            "\n",
            "      Example:\n",
            "\n",
            "      >>> x = [1, 2, 3]\n",
            "      >>> y = np.array([[1, 2], [3, 4], [5, 6]])\n",
            "      >>> plot(x, y)\n",
            "\n",
            "      is equivalent to:\n",
            "\n",
            "      >>> for col in range(y.shape[1]):\n",
            "      ...     plot(x, y[:, col])\n",
            "\n",
            "    - The third way is to specify multiple sets of *[x]*, *y*, *[fmt]*\n",
            "      groups::\n",
            "\n",
            "      >>> plot(x1, y1, 'g^', x2, y2, 'g-')\n",
            "\n",
            "      In this case, any additional keyword argument applies to all\n",
            "      datasets. Also, this syntax cannot be combined with the *data*\n",
            "      parameter.\n",
            "\n",
            "    By default, each line is assigned a different style specified by a\n",
            "    'style cycle'. The *fmt* and line property parameters are only\n",
            "    necessary if you want explicit deviations from these defaults.\n",
            "    Alternatively, you can also change the style cycle using\n",
            "    :rc:`axes.prop_cycle`.\n",
            "\n",
            "\n",
            "    Parameters\n",
            "    ----------\n",
            "    x, y : array-like or scalar\n",
            "        The horizontal / vertical coordinates of the data points.\n",
            "        *x* values are optional and default to ``range(len(y))``.\n",
            "\n",
            "        Commonly, these parameters are 1D arrays.\n",
            "\n",
            "        They can also be scalars, or two-dimensional (in that case, the\n",
            "        columns represent separate data sets).\n",
            "\n",
            "        These arguments cannot be passed as keywords.\n",
            "\n",
            "    fmt : str, optional\n",
            "        A format string, e.g. 'ro' for red circles. See the *Notes*\n",
            "        section for a full description of the format strings.\n",
            "\n",
            "        Format strings are just an abbreviation for quickly setting\n",
            "        basic line properties. All of these and more can also be\n",
            "        controlled by keyword arguments.\n",
            "\n",
            "        This argument cannot be passed as keyword.\n",
            "\n",
            "    data : indexable object, optional\n",
            "        An object with labelled data. If given, provide the label names to\n",
            "        plot in *x* and *y*.\n",
            "\n",
            "        .. note::\n",
            "            Technically there's a slight ambiguity in calls where the\n",
            "            second label is a valid *fmt*. ``plot('n', 'o', data=obj)``\n",
            "            could be ``plt(x, y)`` or ``plt(y, fmt)``. In such cases,\n",
            "            the former interpretation is chosen, but a warning is issued.\n",
            "            You may suppress the warning by adding an empty format string\n",
            "            ``plot('n', 'o', '', data=obj)``.\n",
            "\n",
            "    Returns\n",
            "    -------\n",
            "    list of `.Line2D`\n",
            "        A list of lines representing the plotted data.\n",
            "\n",
            "    Other Parameters\n",
            "    ----------------\n",
            "    scalex, scaley : bool, default: True\n",
            "        These parameters determine if the view limits are adapted to the\n",
            "        data limits. The values are passed on to\n",
            "        `~.axes.Axes.autoscale_view`.\n",
            "\n",
            "    **kwargs : `~matplotlib.lines.Line2D` properties, optional\n",
            "        *kwargs* are used to specify properties like a line label (for\n",
            "        auto legends), linewidth, antialiasing, marker face color.\n",
            "        Example::\n",
            "\n",
            "        >>> plot([1, 2, 3], [1, 2, 3], 'go-', label='line 1', linewidth=2)\n",
            "        >>> plot([1, 2, 3], [1, 4, 9], 'rs', label='line 2')\n",
            "\n",
            "        If you specify multiple lines with one plot call, the kwargs apply\n",
            "        to all those lines. In case the label object is iterable, each\n",
            "        element is used as labels for each set of data.\n",
            "\n",
            "        Here is a list of available `.Line2D` properties:\n",
            "\n",
            "        Properties:\n",
            "        agg_filter: a filter function, which takes a (m, n, 3) float array and a dpi value, and returns a (m, n, 3) array and two offsets from the bottom left corner of the image\n",
            "        alpha: scalar or None\n",
            "        animated: bool\n",
            "        antialiased or aa: bool\n",
            "        clip_box: `~matplotlib.transforms.BboxBase` or None\n",
            "        clip_on: bool\n",
            "        clip_path: Patch or (Path, Transform) or None\n",
            "        color or c: :mpltype:`color`\n",
            "        dash_capstyle: `.CapStyle` or {'butt', 'projecting', 'round'}\n",
            "        dash_joinstyle: `.JoinStyle` or {'miter', 'round', 'bevel'}\n",
            "        dashes: sequence of floats (on/off ink in points) or (None, None)\n",
            "        data: (2, N) array or two 1D arrays\n",
            "        drawstyle or ds: {'default', 'steps', 'steps-pre', 'steps-mid', 'steps-post'}, default: 'default'\n",
            "        figure: `~matplotlib.figure.Figure`\n",
            "        fillstyle: {'full', 'left', 'right', 'bottom', 'top', 'none'}\n",
            "        gapcolor: :mpltype:`color` or None\n",
            "        gid: str\n",
            "        in_layout: bool\n",
            "        label: object\n",
            "        linestyle or ls: {'-', '--', '-.', ':', '', (offset, on-off-seq), ...}\n",
            "        linewidth or lw: float\n",
            "        marker: marker style string, `~.path.Path` or `~.markers.MarkerStyle`\n",
            "        markeredgecolor or mec: :mpltype:`color`\n",
            "        markeredgewidth or mew: float\n",
            "        markerfacecolor or mfc: :mpltype:`color`\n",
            "        markerfacecoloralt or mfcalt: :mpltype:`color`\n",
            "        markersize or ms: float\n",
            "        markevery: None or int or (int, int) or slice or list[int] or float or (float, float) or list[bool]\n",
            "        mouseover: bool\n",
            "        path_effects: list of `.AbstractPathEffect`\n",
            "        picker: float or callable[[Artist, Event], tuple[bool, dict]]\n",
            "        pickradius: float\n",
            "        rasterized: bool\n",
            "        sketch_params: (scale: float, length: float, randomness: float)\n",
            "        snap: bool or None\n",
            "        solid_capstyle: `.CapStyle` or {'butt', 'projecting', 'round'}\n",
            "        solid_joinstyle: `.JoinStyle` or {'miter', 'round', 'bevel'}\n",
            "        transform: unknown\n",
            "        url: str\n",
            "        visible: bool\n",
            "        xdata: 1D array\n",
            "        ydata: 1D array\n",
            "        zorder: float\n",
            "\n",
            "    See Also\n",
            "    --------\n",
            "    scatter : XY scatter plot with markers of varying size and/or color (\n",
            "        sometimes also called bubble chart).\n",
            "\n",
            "    Notes\n",
            "    -----\n",
            "\n",
            "    .. note::\n",
            "\n",
            "        This is the :ref:`pyplot wrapper <pyplot_interface>` for `.axes.Axes.plot`.\n",
            "\n",
            "    **Format Strings**\n",
            "\n",
            "    A format string consists of a part for color, marker and line::\n",
            "\n",
            "        fmt = '[marker][line][color]'\n",
            "\n",
            "    Each of them is optional. If not provided, the value from the style\n",
            "    cycle is used. Exception: If ``line`` is given, but no ``marker``,\n",
            "    the data will be a line without markers.\n",
            "\n",
            "    Other combinations such as ``[color][marker][line]`` are also\n",
            "    supported, but note that their parsing may be ambiguous.\n",
            "\n",
            "    **Markers**\n",
            "\n",
            "    =============   ===============================\n",
            "    character       description\n",
            "    =============   ===============================\n",
            "    ``'.'``         point marker\n",
            "    ``','``         pixel marker\n",
            "    ``'o'``         circle marker\n",
            "    ``'v'``         triangle_down marker\n",
            "    ``'^'``         triangle_up marker\n",
            "    ``'<'``         triangle_left marker\n",
            "    ``'>'``         triangle_right marker\n",
            "    ``'1'``         tri_down marker\n",
            "    ``'2'``         tri_up marker\n",
            "    ``'3'``         tri_left marker\n",
            "    ``'4'``         tri_right marker\n",
            "    ``'8'``         octagon marker\n",
            "    ``'s'``         square marker\n",
            "    ``'p'``         pentagon marker\n",
            "    ``'P'``         plus (filled) marker\n",
            "    ``'*'``         star marker\n",
            "    ``'h'``         hexagon1 marker\n",
            "    ``'H'``         hexagon2 marker\n",
            "    ``'+'``         plus marker\n",
            "    ``'x'``         x marker\n",
            "    ``'X'``         x (filled) marker\n",
            "    ``'D'``         diamond marker\n",
            "    ``'d'``         thin_diamond marker\n",
            "    ``'|'``         vline marker\n",
            "    ``'_'``         hline marker\n",
            "    =============   ===============================\n",
            "\n",
            "    **Line Styles**\n",
            "\n",
            "    =============    ===============================\n",
            "    character        description\n",
            "    =============    ===============================\n",
            "    ``'-'``          solid line style\n",
            "    ``'--'``         dashed line style\n",
            "    ``'-.'``         dash-dot line style\n",
            "    ``':'``          dotted line style\n",
            "    =============    ===============================\n",
            "\n",
            "    Example format strings::\n",
            "\n",
            "        'b'    # blue markers with default shape\n",
            "        'or'   # red circles\n",
            "        '-g'   # green solid line\n",
            "        '--'   # dashed line with default color\n",
            "        '^k:'  # black triangle_up markers connected by a dotted line\n",
            "\n",
            "    **Colors**\n",
            "\n",
            "    The supported color abbreviations are the single letter codes\n",
            "\n",
            "    =============    ===============================\n",
            "    character        color\n",
            "    =============    ===============================\n",
            "    ``'b'``          blue\n",
            "    ``'g'``          green\n",
            "    ``'r'``          red\n",
            "    ``'c'``          cyan\n",
            "    ``'m'``          magenta\n",
            "    ``'y'``          yellow\n",
            "    ``'k'``          black\n",
            "    ``'w'``          white\n",
            "    =============    ===============================\n",
            "\n",
            "    and the ``'CN'`` colors that index into the default property cycle.\n",
            "\n",
            "    If the color is the only part of the format string, you can\n",
            "    additionally use any  `matplotlib.colors` spec, e.g. full names\n",
            "    (``'green'``) or hex strings (``'#008000'``).\n",
            "\n"
          ]
        }
      ],
      "source": [
        "help(plt.plot)"
      ]
    },
    {
      "cell_type": "code",
      "execution_count": 12,
      "metadata": {
        "colab": {
          "base_uri": "https://localhost:8080/",
          "height": 447
        },
        "id": "1KwJRvmsUvnM",
        "outputId": "705a22f8-9599-49ff-9934-ad10cc45ed2f"
      },
      "outputs": [
        {
          "data": {
            "text/plain": [
              "[<matplotlib.lines.Line2D at 0x1cc9bffe0f0>]"
            ]
          },
          "execution_count": 12,
          "metadata": {},
          "output_type": "execute_result"
        },
        {
          "data": {
            "image/png": "[encoded data removed]",
            "text/plain": [
              "<Figure size 640x480 with 1 Axes>"
            ]
          },
          "metadata": {},
          "output_type": "display_data"
        }
      ],
      "source": [
        "# No es la grafica más bonita\n",
        "plt.plot(mes_numero, interes_pagado)"
      ]
    },
    {
      "cell_type": "code",
      "execution_count": 13,
      "metadata": {
        "colab": {
          "base_uri": "https://localhost:8080/",
          "height": 447
        },
        "id": "2ow7eTJgUvnM",
        "outputId": "072e1111-3d71-4b6d-99f4-f16d9fedd7bc"
      },
      "outputs": [
        {
          "data": {
            "text/plain": [
              "[<matplotlib.lines.Line2D at 0x1cc9c2b9b80>]"
            ]
          },
          "execution_count": 13,
          "metadata": {},
          "output_type": "execute_result"
        },
        {
          "data": {
            "image/png": "[encoded data removed]",
            "text/plain": [
              "<Figure size 640x480 with 1 Axes>"
            ]
          },
          "metadata": {},
          "output_type": "display_data"
        }
      ],
      "source": [
        "# También puedes trazar otra línea en el mismo gráfico.\n",
        "plt.plot(mes_numero, interes_pagado)\n",
        "plt.plot(mes_numero, capital_pagado)"
      ]
    },
    {
      "cell_type": "markdown",
      "metadata": {
        "id": "3_W8s4yqUvnN"
      },
      "source": [
        "### Elegir el estilo de la figura\n",
        "Usaremos `plt.style.available` para seleccionar un estilo estético adecuado para nuestras figuras.\n",
        "\n",
        "El estilo predeterminado no es el más agradable a la vista."
      ]
    },
    {
      "cell_type": "code",
      "execution_count": 14,
      "metadata": {
        "colab": {
          "base_uri": "https://localhost:8080/"
        },
        "id": "zpTRa_AZUvnN",
        "outputId": "ce0cc46b-dee5-4846-9743-5725da685d75"
      },
      "outputs": [
        {
          "data": {
            "text/plain": [
              "['Solarize_Light2',\n",
              " '_classic_test_patch',\n",
              " '_mpl-gallery',\n",
              " '_mpl-gallery-nogrid',\n",
              " 'bmh',\n",
              " 'classic',\n",
              " 'dark_background',\n",
              " 'fast',\n",
              " 'fivethirtyeight',\n",
              " 'ggplot',\n",
              " 'grayscale',\n",
              " 'seaborn-v0_8',\n",
              " 'seaborn-v0_8-bright',\n",
              " 'seaborn-v0_8-colorblind',\n",
              " 'seaborn-v0_8-dark',\n",
              " 'seaborn-v0_8-dark-palette',\n",
              " 'seaborn-v0_8-darkgrid',\n",
              " 'seaborn-v0_8-deep',\n",
              " 'seaborn-v0_8-muted',\n",
              " 'seaborn-v0_8-notebook',\n",
              " 'seaborn-v0_8-paper',\n",
              " 'seaborn-v0_8-pastel',\n",
              " 'seaborn-v0_8-poster',\n",
              " 'seaborn-v0_8-talk',\n",
              " 'seaborn-v0_8-ticks',\n",
              " 'seaborn-v0_8-white',\n",
              " 'seaborn-v0_8-whitegrid',\n",
              " 'tableau-colorblind10']"
            ]
          },
          "execution_count": 14,
          "metadata": {},
          "output_type": "execute_result"
        }
      ],
      "source": [
        "# Nuestras opciones de estilo\n",
        "plt.style.available"
      ]
    },
    {
      "cell_type": "code",
      "execution_count": 18,
      "metadata": {
        "colab": {
          "base_uri": "https://localhost:8080/",
          "height": 457
        },
        "id": "TXlTdpKpUvnN",
        "outputId": "3ad3b75b-bce6-4ee8-9228-5d685933b9ec"
      },
      "outputs": [
        {
          "data": {
            "text/plain": [
              "[<matplotlib.lines.Line2D at 0x1cc9c0fb2f0>]"
            ]
          },
          "execution_count": 18,
          "metadata": {},
          "output_type": "execute_result"
        },
        {
          "data": {
            "image/png": "[encoded data removed]",
            "text/plain": [
              "<Figure size 640x440 with 1 Axes>"
            ]
          },
          "metadata": {},
          "output_type": "display_data"
        }
      ],
      "source": [
        "# Actualmente, estamos usando el gráfico predeterminado\n",
        "# por lo que esto no cambiará mucho nuestro gráfico\n",
        "plt.style.use('seaborn-v0_8-notebook')\n",
        "\n",
        "plt.plot(mes_numero, interes_pagado)\n",
        "plt.plot(mes_numero, capital_pagado)"
      ]
    },
    {
      "cell_type": "code",
      "execution_count": 19,
      "metadata": {
        "colab": {
          "base_uri": "https://localhost:8080/",
          "height": 475
        },
        "id": "En4RQiXuUvnN",
        "outputId": "10d2ab98-0928-4911-f840-9231d5cc8870"
      },
      "outputs": [
        {
          "data": {
            "text/plain": [
              "[<matplotlib.lines.Line2D at 0x1cc9c3b4a70>]"
            ]
          },
          "execution_count": 19,
          "metadata": {},
          "output_type": "execute_result"
        },
        {
          "data": {
            "image/png": "[encoded data removed]",
            "text/plain": [
              "<Figure size 640x440 with 1 Axes>"
            ]
          },
          "metadata": {},
          "output_type": "display_data"
        }
      ],
      "source": [
        "plt.style.use('fivethirtyeight')\n",
        "\n",
        "plt.plot(mes_numero, interes_pagado)\n",
        "plt.plot(mes_numero, capital_pagado)"
      ]
    },
    {
      "cell_type": "code",
      "execution_count": 20,
      "metadata": {
        "colab": {
          "base_uri": "https://localhost:8080/",
          "height": 467
        },
        "id": "haCcPcAgUvnN",
        "outputId": "608b2fcc-5b3b-4e19-8461-921ae9bf235c"
      },
      "outputs": [
        {
          "data": {
            "text/plain": [
              "[<matplotlib.lines.Line2D at 0x1cc9e414f80>]"
            ]
          },
          "execution_count": 20,
          "metadata": {},
          "output_type": "execute_result"
        },
        {
          "data": {
            "image/png": "[encoded data removed]",
            "text/plain": [
              "<Figure size 640x440 with 1 Axes>"
            ]
          },
          "metadata": {},
          "output_type": "display_data"
        }
      ],
      "source": [
        "plt.style.use('ggplot')\n",
        "\n",
        "plt.plot(mes_numero, interes_pagado)\n",
        "plt.plot(mes_numero, capital_pagado)"
      ]
    },
    {
      "cell_type": "code",
      "execution_count": 21,
      "metadata": {
        "colab": {
          "base_uri": "https://localhost:8080/",
          "height": 467
        },
        "id": "Bit4_EdoUvnN",
        "outputId": "c0725861-dc18-46a0-ec93-0ec6befc91c0",
        "scrolled": true
      },
      "outputs": [
        {
          "data": {
            "text/plain": [
              "[<matplotlib.lines.Line2D at 0x1cc9e480f20>]"
            ]
          },
          "execution_count": 21,
          "metadata": {},
          "output_type": "execute_result"
        },
        {
          "data": {
            "image/png": "[encoded data removed]",
            "text/plain": [
              "<Figure size 640x440 with 1 Axes>"
            ]
          },
          "metadata": {},
          "output_type": "display_data"
        }
      ],
      "source": [
        "plt.style.use('tableau-colorblind10')\n",
        "\n",
        "plt.plot(mes_numero, interes_pagado)\n",
        "plt.plot(mes_numero, capital_pagado)"
      ]
    },
    {
      "cell_type": "code",
      "execution_count": 24,
      "metadata": {
        "colab": {
          "base_uri": "https://localhost:8080/",
          "height": 492
        },
        "id": "iHbTqMIlUvnN",
        "outputId": "296b3f31-9495-4c15-9ab0-33520ed7ce1a"
      },
      "outputs": [
        {
          "ename": "OSError",
          "evalue": "'seaborn' is not a valid package style, path of style file, URL of style file, or library style name (library styles are listed in `style.available`)",
          "output_type": "error",
          "traceback": [
            "\u001b[1;31m---------------------------------------------------------------------------\u001b[0m",
            "\u001b[1;31mFileNotFoundError\u001b[0m                         Traceback (most recent call last)",
            "File \u001b[1;32m~\\AppData\\Local\\Packages\\PythonSoftwareFoundation.Python.3.12_qbz5n2kfra8p0\\LocalCache\\local-packages\\Python312\\site-packages\\matplotlib\\style\\core.py:137\u001b[0m, in \u001b[0;36muse\u001b[1;34m(style)\u001b[0m\n\u001b[0;32m    136\u001b[0m \u001b[38;5;28;01mtry\u001b[39;00m:\n\u001b[1;32m--> 137\u001b[0m     style \u001b[38;5;241m=\u001b[39m \u001b[43m_rc_params_in_file\u001b[49m\u001b[43m(\u001b[49m\u001b[43mstyle\u001b[49m\u001b[43m)\u001b[49m\n\u001b[0;32m    138\u001b[0m \u001b[38;5;28;01mexcept\u001b[39;00m \u001b[38;5;167;01mOSError\u001b[39;00m \u001b[38;5;28;01mas\u001b[39;00m err:\n",
            "File \u001b[1;32m~\\AppData\\Local\\Packages\\PythonSoftwareFoundation.Python.3.12_qbz5n2kfra8p0\\LocalCache\\local-packages\\Python312\\site-packages\\matplotlib\\__init__.py:870\u001b[0m, in \u001b[0;36m_rc_params_in_file\u001b[1;34m(fname, transform, fail_on_error)\u001b[0m\n\u001b[0;32m    869\u001b[0m rc_temp \u001b[38;5;241m=\u001b[39m {}\n\u001b[1;32m--> 870\u001b[0m \u001b[38;5;28;01mwith\u001b[39;00m _open_file_or_url(fname) \u001b[38;5;28;01mas\u001b[39;00m fd:\n\u001b[0;32m    871\u001b[0m     \u001b[38;5;28;01mtry\u001b[39;00m:\n",
            "File \u001b[1;32mC:\\Program Files\\WindowsApps\\PythonSoftwareFoundation.Python.3.12_3.12.2544.0_x64__qbz5n2kfra8p0\\Lib\\contextlib.py:137\u001b[0m, in \u001b[0;36m_GeneratorContextManager.__enter__\u001b[1;34m(self)\u001b[0m\n\u001b[0;32m    136\u001b[0m \u001b[38;5;28;01mtry\u001b[39;00m:\n\u001b[1;32m--> 137\u001b[0m     \u001b[38;5;28;01mreturn\u001b[39;00m \u001b[38;5;28;43mnext\u001b[39;49m\u001b[43m(\u001b[49m\u001b[38;5;28;43mself\u001b[39;49m\u001b[38;5;241;43m.\u001b[39;49m\u001b[43mgen\u001b[49m\u001b[43m)\u001b[49m\n\u001b[0;32m    138\u001b[0m \u001b[38;5;28;01mexcept\u001b[39;00m \u001b[38;5;167;01mStopIteration\u001b[39;00m:\n",
            "File \u001b[1;32m~\\AppData\\Local\\Packages\\PythonSoftwareFoundation.Python.3.12_qbz5n2kfra8p0\\LocalCache\\local-packages\\Python312\\site-packages\\matplotlib\\__init__.py:847\u001b[0m, in \u001b[0;36m_open_file_or_url\u001b[1;34m(fname)\u001b[0m\n\u001b[0;32m    846\u001b[0m fname \u001b[38;5;241m=\u001b[39m os\u001b[38;5;241m.\u001b[39mpath\u001b[38;5;241m.\u001b[39mexpanduser(fname)\n\u001b[1;32m--> 847\u001b[0m \u001b[38;5;28;01mwith\u001b[39;00m \u001b[38;5;28;43mopen\u001b[39;49m\u001b[43m(\u001b[49m\u001b[43mfname\u001b[49m\u001b[43m,\u001b[49m\u001b[43m \u001b[49m\u001b[43mencoding\u001b[49m\u001b[38;5;241;43m=\u001b[39;49m\u001b[38;5;124;43m'\u001b[39;49m\u001b[38;5;124;43mutf-8\u001b[39;49m\u001b[38;5;124;43m'\u001b[39;49m\u001b[43m)\u001b[49m \u001b[38;5;28;01mas\u001b[39;00m f:\n\u001b[0;32m    848\u001b[0m     \u001b[38;5;28;01myield\u001b[39;00m f\n",
            "\u001b[1;31mFileNotFoundError\u001b[0m: [Errno 2] No such file or directory: 'seaborn'",
            "\nThe above exception was the direct cause of the following exception:\n",
            "\u001b[1;31mOSError\u001b[0m                                   Traceback (most recent call last)",
            "Cell \u001b[1;32mIn[24], line 1\u001b[0m\n\u001b[1;32m----> 1\u001b[0m \u001b[43mplt\u001b[49m\u001b[38;5;241;43m.\u001b[39;49m\u001b[43mstyle\u001b[49m\u001b[38;5;241;43m.\u001b[39;49m\u001b[43muse\u001b[49m\u001b[43m(\u001b[49m\u001b[38;5;124;43m'\u001b[39;49m\u001b[38;5;124;43mseaborn\u001b[39;49m\u001b[38;5;124;43m'\u001b[39;49m\u001b[43m)\u001b[49m\n\u001b[0;32m      3\u001b[0m plt\u001b[38;5;241m.\u001b[39mplot(mes_numero, interes_pagado)\n\u001b[0;32m      4\u001b[0m plt\u001b[38;5;241m.\u001b[39mplot(mes_numero, capital_pagado)\n",
            "File \u001b[1;32m~\\AppData\\Local\\Packages\\PythonSoftwareFoundation.Python.3.12_qbz5n2kfra8p0\\LocalCache\\local-packages\\Python312\\site-packages\\matplotlib\\style\\core.py:139\u001b[0m, in \u001b[0;36muse\u001b[1;34m(style)\u001b[0m\n\u001b[0;32m    137\u001b[0m         style \u001b[38;5;241m=\u001b[39m _rc_params_in_file(style)\n\u001b[0;32m    138\u001b[0m     \u001b[38;5;28;01mexcept\u001b[39;00m \u001b[38;5;167;01mOSError\u001b[39;00m \u001b[38;5;28;01mas\u001b[39;00m err:\n\u001b[1;32m--> 139\u001b[0m         \u001b[38;5;28;01mraise\u001b[39;00m \u001b[38;5;167;01mOSError\u001b[39;00m(\n\u001b[0;32m    140\u001b[0m             \u001b[38;5;124mf\u001b[39m\u001b[38;5;124m\"\u001b[39m\u001b[38;5;132;01m{\u001b[39;00mstyle\u001b[38;5;132;01m!r}\u001b[39;00m\u001b[38;5;124m is not a valid package style, path of style \u001b[39m\u001b[38;5;124m\"\u001b[39m\n\u001b[0;32m    141\u001b[0m             \u001b[38;5;124mf\u001b[39m\u001b[38;5;124m\"\u001b[39m\u001b[38;5;124mfile, URL of style file, or library style name (library \u001b[39m\u001b[38;5;124m\"\u001b[39m\n\u001b[0;32m    142\u001b[0m             \u001b[38;5;124mf\u001b[39m\u001b[38;5;124m\"\u001b[39m\u001b[38;5;124mstyles are listed in `style.available`)\u001b[39m\u001b[38;5;124m\"\u001b[39m) \u001b[38;5;28;01mfrom\u001b[39;00m \u001b[38;5;21;01merr\u001b[39;00m\n\u001b[0;32m    143\u001b[0m filtered \u001b[38;5;241m=\u001b[39m {}\n\u001b[0;32m    144\u001b[0m \u001b[38;5;28;01mfor\u001b[39;00m k \u001b[38;5;129;01min\u001b[39;00m style:  \u001b[38;5;66;03m# don't trigger RcParams.__getitem__('backend')\u001b[39;00m\n",
            "\u001b[1;31mOSError\u001b[0m: 'seaborn' is not a valid package style, path of style file, URL of style file, or library style name (library styles are listed in `style.available`)"
          ]
        }
      ],
      "source": [
        "plt.style.use('seaborn')\n",
        "\n",
        "plt.plot(mes_numero, interes_pagado)\n",
        "plt.plot(mes_numero, capital_pagado)"
      ]
    },
    {
      "cell_type": "code",
      "execution_count": null,
      "metadata": {},
      "outputs": [],
      "source": []
    }
  ],
  "metadata": {
    "anaconda-cloud": {},
    "colab": {
      "provenance": []
    },
    "kernelspec": {
      "display_name": "Python 3",
      "language": "python",
      "name": "python3"
    },
    "language_info": {
      "codemirror_mode": {
        "name": "ipython",
        "version": 3
      },
      "file_extension": ".py",
      "mimetype": "text/x-python",
      "name": "python",
      "nbconvert_exporter": "python",
      "pygments_lexer": "ipython3",
      "version": "3.12.10"
    }
  },
  "nbformat": 4,
  "nbformat_minor": 0
}
