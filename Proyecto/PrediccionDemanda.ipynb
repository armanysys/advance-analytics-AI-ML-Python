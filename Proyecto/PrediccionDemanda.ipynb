{
 "cells": [
  {
   "cell_type": "code",
   "execution_count": null,
   "id": "bdae612e",
   "metadata": {},
   "outputs": [],
   "source": []
  },
  {
   "cell_type": "code",
   "execution_count": 1,
   "id": "393aaf4b",
   "metadata": {},
   "outputs": [],
   "source": [
    "# Usando `ìnline` no sea necesario escribir código adicional `plt.show()` para mostrar los gráficos\n",
    "%matplotlib inline\n",
    "\n",
    "import pandas as pd\n",
    "import numpy as np\n",
    "\n",
    "# `plt` es un alias para el módulo `matplotlib.pyplot`\n",
    "import matplotlib.pyplot as plt\n",
    "\n",
    "# importa libreria seaborn (contenedor de matplotlib)\n",
    "import seaborn as sns"
   ]
  },
  {
   "cell_type": "code",
   "execution_count": 30,
   "id": "3270a801",
   "metadata": {},
   "outputs": [],
   "source": [
    "# Cargar datos de préstamos de automóviles en un marco de datos de pandas desde un archivo csv\n",
    "filename = 'data/prediccion.xlsx'\n",
    "df = pd.read_excel(filename)"
   ]
  },
  {
   "cell_type": "code",
   "execution_count": 31,
   "id": "fbe85997",
   "metadata": {},
   "outputs": [
    {
     "data": {
      "application/vnd.microsoft.datawrangler.viewer.v0+json": {
       "columns": [
        {
         "name": "index",
         "rawType": "int64",
         "type": "integer"
        },
        {
         "name": "Nodo",
         "rawType": "object",
         "type": "string"
        },
        {
         "name": "Fecha",
         "rawType": "datetime64[ns]",
         "type": "datetime"
        },
        {
         "name": "Precio",
         "rawType": "float64",
         "type": "float"
        },
        {
         "name": "Ventas",
         "rawType": "float64",
         "type": "float"
        },
        {
         "name": "Existencias",
         "rawType": "float64",
         "type": "float"
        }
       ],
       "conversionMethod": "pd.DataFrame",
       "ref": "5032be88-8c95-4683-b07c-5456000aca7d",
       "rows": [
        [
         "0",
         "A",
         "1982-09-16 00:00:00",
         "373.84952577718536",
         "10031.10534291221",
         "82234.32930036643"
        ],
        [
         "1",
         "A",
         "1982-04-24 00:00:00",
         "373.84952577718536",
         "6685.30916683908",
         "86007.38207732777"
        ],
        [
         "2",
         "A",
         "1982-05-01 00:00:00",
         "373.84952577718536",
         "5789.955260565988",
         "83701.45306959286"
        ],
        [
         "3",
         "A",
         "1982-05-08 00:00:00",
         "373.84952577718536",
         "9619.556705291947",
         "83629.19643856029"
        ],
        [
         "4",
         "A",
         "1982-05-15 00:00:00",
         "373.84952577718536",
         "6503.096792930872",
         "77465.39165221712"
        ]
       ],
       "shape": {
        "columns": 5,
        "rows": 5
       }
      },
      "text/html": [
       "<div>\n",
       "<style scoped>\n",
       "    .dataframe tbody tr th:only-of-type {\n",
       "        vertical-align: middle;\n",
       "    }\n",
       "\n",
       "    .dataframe tbody tr th {\n",
       "        vertical-align: top;\n",
       "    }\n",
       "\n",
       "    .dataframe thead th {\n",
       "        text-align: right;\n",
       "    }\n",
       "</style>\n",
       "<table border=\"1\" class=\"dataframe\">\n",
       "  <thead>\n",
       "    <tr style=\"text-align: right;\">\n",
       "      <th></th>\n",
       "      <th>Nodo</th>\n",
       "      <th>Fecha</th>\n",
       "      <th>Precio</th>\n",
       "      <th>Ventas</th>\n",
       "      <th>Existencias</th>\n",
       "    </tr>\n",
       "  </thead>\n",
       "  <tbody>\n",
       "    <tr>\n",
       "      <th>0</th>\n",
       "      <td>A</td>\n",
       "      <td>1982-09-16</td>\n",
       "      <td>373.849526</td>\n",
       "      <td>10031.105343</td>\n",
       "      <td>82234.329300</td>\n",
       "    </tr>\n",
       "    <tr>\n",
       "      <th>1</th>\n",
       "      <td>A</td>\n",
       "      <td>1982-04-24</td>\n",
       "      <td>373.849526</td>\n",
       "      <td>6685.309167</td>\n",
       "      <td>86007.382077</td>\n",
       "    </tr>\n",
       "    <tr>\n",
       "      <th>2</th>\n",
       "      <td>A</td>\n",
       "      <td>1982-05-01</td>\n",
       "      <td>373.849526</td>\n",
       "      <td>5789.955261</td>\n",
       "      <td>83701.453070</td>\n",
       "    </tr>\n",
       "    <tr>\n",
       "      <th>3</th>\n",
       "      <td>A</td>\n",
       "      <td>1982-05-08</td>\n",
       "      <td>373.849526</td>\n",
       "      <td>9619.556705</td>\n",
       "      <td>83629.196439</td>\n",
       "    </tr>\n",
       "    <tr>\n",
       "      <th>4</th>\n",
       "      <td>A</td>\n",
       "      <td>1982-05-15</td>\n",
       "      <td>373.849526</td>\n",
       "      <td>6503.096793</td>\n",
       "      <td>77465.391652</td>\n",
       "    </tr>\n",
       "  </tbody>\n",
       "</table>\n",
       "</div>"
      ],
      "text/plain": [
       "  Nodo      Fecha      Precio        Ventas   Existencias\n",
       "0    A 1982-09-16  373.849526  10031.105343  82234.329300\n",
       "1    A 1982-04-24  373.849526   6685.309167  86007.382077\n",
       "2    A 1982-05-01  373.849526   5789.955261  83701.453070\n",
       "3    A 1982-05-08  373.849526   9619.556705  83629.196439\n",
       "4    A 1982-05-15  373.849526   6503.096793  77465.391652"
      ]
     },
     "execution_count": 31,
     "metadata": {},
     "output_type": "execute_result"
    }
   ],
   "source": [
    "# Ver las primeras 5 filas del marco de datos\n",
    "df.head()"
   ]
  },
  {
   "cell_type": "code",
   "execution_count": 41,
   "id": "7b9e52f4",
   "metadata": {},
   "outputs": [
    {
     "name": "stdout",
     "output_type": "stream",
     "text": [
      "**** INOF ****\n",
      "<class 'pandas.core.frame.DataFrame'>\n",
      "RangeIndex: 1256 entries, 0 to 1255\n",
      "Data columns (total 5 columns):\n",
      " #   Column       Non-Null Count  Dtype         \n",
      "---  ------       --------------  -----         \n",
      " 0   Nodo         1256 non-null   object        \n",
      " 1   Fecha        1256 non-null   datetime64[ns]\n",
      " 2   Precio       1256 non-null   float64       \n",
      " 3   Ventas       1256 non-null   float64       \n",
      " 4   Existencias  1256 non-null   float64       \n",
      "dtypes: datetime64[ns](1), float64(3), object(1)\n",
      "memory usage: 49.2+ KB\n",
      "None\n",
      "\n",
      "**** SHAPE ****\n",
      "(1256, 5)\n",
      "\n",
      "**** COLUMNS ****\n",
      "Index(['Nodo', 'Fecha', 'Precio', 'Ventas', 'Existencias'], dtype='object')\n",
      "\n",
      "**** ISNULL ****\n",
      "Nodo           0\n",
      "Fecha          0\n",
      "Precio         0\n",
      "Ventas         0\n",
      "Existencias    0\n",
      "dtype: int64\n"
     ]
    }
   ],
   "source": [
    "print('**** INOF ****')\n",
    "print(df.info())\n",
    "print('\\n**** SHAPE ****')\n",
    "print(df.shape)\n",
    "print('\\n**** COLUMNS ****')\n",
    "print(df.columns)\n",
    "print('\\n**** ISNULL ****')\n",
    "print(df.isnull().sum())"
   ]
  },
  {
   "cell_type": "code",
   "execution_count": 88,
   "id": "9de74d72",
   "metadata": {},
   "outputs": [
    {
     "name": "stdout",
     "output_type": "stream",
     "text": [
      "\n",
      "**** DESCRIBE ****\n",
      "              count                           mean                  min  \\\n",
      "Fecha          1256  1983-10-14 12:13:45.477707008  1982-04-17 00:00:00   \n",
      "Precio       1256.0                     393.539508           373.849526   \n",
      "Ventas       1256.0                    9147.247265           172.787596   \n",
      "Existencias  1256.0                   51196.046714           1017.87602   \n",
      "\n",
      "                             25%                  50%                  75%  \\\n",
      "Fecha        1983-01-15 00:00:00  1983-10-15 00:00:00  1984-07-14 00:00:00   \n",
      "Precio                392.699082           392.699082           405.265452   \n",
      "Ventas               5301.437603          8293.804605         11455.032213   \n",
      "Existencias         27205.406982         46101.301395         68854.286189   \n",
      "\n",
      "                             max           std  \n",
      "Fecha        1985-04-06 00:00:00           NaN  \n",
      "Precio                417.831823     12.928541  \n",
      "Ventas               41519.28851   5418.835714  \n",
      "Existencias        156887.995528  29997.832811  \n",
      "\n",
      "**** TYPES ****\n",
      "Nodo                   object\n",
      "Fecha          datetime64[ns]\n",
      "Precio                float64\n",
      "Ventas                float64\n",
      "Existencias           float64\n",
      "dtype: object\n"
     ]
    }
   ],
   "source": [
    "print('\\n**** DESCRIBE ****')\n",
    "print(df.describe().T)\n",
    "print('\\n**** TYPES ****')\n",
    "print(df.dtypes)"
   ]
  },
  {
   "cell_type": "code",
   "execution_count": 91,
   "id": "ca278649",
   "metadata": {},
   "outputs": [
    {
     "data": {
      "image/png": "[encoded data removed]",
      "text/plain": [
       "<Figure size 640x480 with 1 Axes>"
      ]
     },
     "metadata": {},
     "output_type": "display_data"
    }
   ],
   "source": [
    "df['Nodo'].hist();"
   ]
  },
  {
   "cell_type": "code",
   "execution_count": 74,
   "id": "c7e1353c",
   "metadata": {},
   "outputs": [
    {
     "data": {
      "image/png": "[encoded data removed]",
      "text/plain": [
       "<Figure size 640x480 with 1 Axes>"
      ]
     },
     "metadata": {},
     "output_type": "display_data"
    }
   ],
   "source": [
    "df['Ventas'].plot(kind='box');"
   ]
  },
  {
   "cell_type": "code",
   "execution_count": null,
   "id": "0150e882",
   "metadata": {},
   "outputs": [],
   "source": [
    "# Crear tabla pivote\n",
    "tabla = df.pivot_table(\n",
    "    index='ubica_geo'\n",
    "    , columns='sexo_jefe'\n",
    "    , values='tot_integ'\n",
    "    , aggfunc='sum')"
   ]
  }
 ],
 "metadata": {
  "kernelspec": {
   "display_name": "Python 3",
   "language": "python",
   "name": "python3"
  },
  "language_info": {
   "codemirror_mode": {
    "name": "ipython",
    "version": 3
   },
   "file_extension": ".py",
   "mimetype": "text/x-python",
   "name": "python",
   "nbconvert_exporter": "python",
   "pygments_lexer": "ipython3",
   "version": "3.12.10"
  }
 },
 "nbformat": 4,
 "nbformat_minor": 5
}
